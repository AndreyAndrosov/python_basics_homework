{
 "cells": [
  {
   "cell_type": "code",
   "execution_count": 27,
   "metadata": {},
   "outputs": [
    {
     "name": "stdout",
     "output_type": "stream",
     "text": [
      "Фраза 1 длиннее фразы 2\n"
     ]
    }
   ],
   "source": [
    "phrase_1 = 'Насколько проще было бы писать программы, если бы не заказчики'\n",
    "phrase_2 = '640Кб должно хватить для любых задач. Билл Гейтс (по легенде)'\n",
    "\n",
    "if len (phrase_1) > len (phrase_2):\n",
    "    print('Фраза 1 длиннее фразы 2')\n",
    "elif len (phrase_1) == len (phrase_2):\n",
    "    print('Фразы равной длины')\n",
    "else:\n",
    "    print('Фраза 2 длиннее фразы 1')\n",
    "   "
   ]
  },
  {
   "cell_type": "code",
   "execution_count": 30,
   "metadata": {},
   "outputs": [
    {
     "name": "stdout",
     "output_type": "stream",
     "text": [
      "Фраза 2 длиннее фразы 1\n"
     ]
    }
   ],
   "source": [
    "phrase_1 = '640Кб должно хватить для любых задач. Билл Гейтс (по легенде)'\n",
    "phrase_2 = 'Насколько проще было бы писать программы, если бы не заказчики'\n",
    "\n",
    "if len (phrase_1) > len (phrase_2):\n",
    "    print('Фраза 1 длиннее фразы 2')\n",
    "elif len (phrase_1) == len (phrase_2):\n",
    "    print('Фразы равной длины')\n",
    "else:\n",
    "    print('Фраза 2 длиннее фразы 1')"
   ]
  },
  {
   "cell_type": "code",
   "execution_count": 31,
   "metadata": {},
   "outputs": [
    {
     "name": "stdout",
     "output_type": "stream",
     "text": [
      "Фразы равной длины\n"
     ]
    }
   ],
   "source": [
    "phrase_1 = 'Насколько проще было бы писать программы, если бы не заказчики'\n",
    "phrase_2 = 'Насколько проще было бы писать программы, если бы не заказчики'\n",
    "\n",
    "if len (phrase_1) > len (phrase_2):\n",
    "    print('Фраза 1 длиннее фразы 2')\n",
    "elif len (phrase_1) == len (phrase_2):\n",
    "    print('Фразы равной длины')\n",
    "else:\n",
    "    print('Фраза 2 длиннее фразы 1')"
   ]
  },
  {
   "cell_type": "markdown",
   "metadata": {},
   "source": [
    "# Задание 2 Високосный год."
   ]
  },
  {
   "cell_type": "code",
   "execution_count": 8,
   "metadata": {},
   "outputs": [
    {
     "name": "stdout",
     "output_type": "stream",
     "text": [
      "Введите год: 2020\n",
      "2020 - високосный год\n"
     ]
    }
   ],
   "source": [
    "year = int(input('Введите год: '))\n",
    "\n",
    "if year % 4 == 0:\n",
    "    print(year, '- високосный год')\n",
    "else:\n",
    "    print(year, '- обычный год')"
   ]
  },
  {
   "cell_type": "markdown",
   "metadata": {},
   "source": [
    "# Задание 3. Знак Зодиака."
   ]
  },
  {
   "cell_type": "code",
   "execution_count": 7,
   "metadata": {},
   "outputs": [
    {
     "name": "stdout",
     "output_type": "stream",
     "text": [
      "Введите день рождения: 26\n",
      "Введите месяц рождения: Май\n",
      "Ваш знак зодиака - Близнец\n"
     ]
    }
   ],
   "source": [
    "day = int(input('Введите день рождения: '))\n",
    "month = input('Введите месяц рождения: ')\n",
    "\n",
    "if day >= 21 and month == 'Март' or day <= 20 and month == 'Апрель':\n",
    "    print('Ваш знак зодиака - Овен')\n",
    "elif day >= 21 and month == 'Апрель' or day <= 21 and month == 'Май':\n",
    "    print('Ваш знак зодиака - Телец')\n",
    "elif day >= 22 and month == 'Май' or day <= 21 and month == 'Июнь':\n",
    "    print('Ваш знак зодиака - Близнец')\n",
    "elif day >= 22 and month == 'Июнь' or day <= 22 and month == 'Июль':\n",
    "    print('Ваш знак зодиака - Рак')\n",
    "elif day >= 23 and month == 'Июль' or day <= 23 and month == 'Август':\n",
    "    print('Ваш знак зодиака - Лев')\n",
    "elif day >= 24 and month == 'Август' or day <= 22 and month == 'Сентябрь':\n",
    "    print('Ваш знак зодиака - Дева')\n",
    "elif day >= 23 and month == 'Сентябрь' or day <= 23 and month == 'Октябрь':\n",
    "    print('Ваш знак зодиака - Весы')\n",
    "elif day >= 24 and month == 'Октябрь' or day <= 22 and month == 'Ноябрь':\n",
    "    print('Ваш знак зодиака - Скорпион')\n",
    "elif day >= 23 and month == 'Ноябрь' or day <= 22 and month == 'Декабрь':\n",
    "    print('Ваш знак зодиака - Стрелец')\n",
    "elif day >= 23 and month == 'Декабрь' or day <= 20 and month == 'Январь':\n",
    "    print('Ваш знак зодиака - Козерог')\n",
    "elif day >= 21 and month == 'Январь' or day <= 19 and month == 'Февраль':\n",
    "    print('Ваш знак зодиака - Водолей')\n",
    "else:\n",
    "    print('Ваш знак зодиака - Рыбы')\n"
   ]
  },
  {
   "cell_type": "markdown",
   "metadata": {},
   "source": [
    "# Задание 4. Подбор упаковки."
   ]
  },
  {
   "cell_type": "code",
   "execution_count": 15,
   "metadata": {},
   "outputs": [
    {
     "name": "stdout",
     "output_type": "stream",
     "text": [
      "Введите длину товара в см.: 12\n",
      "Введите ширину товара в см.: 23\n",
      "Введите высоту товара в см.: 12\n",
      "Коробка №2\n"
     ]
    }
   ],
   "source": [
    "length = int(input('Введите длину товара в см.: '))\n",
    "width = int(input('Введите ширину товара в см.: '))\n",
    "height = int(input('Введите высоту товара в см.: ')) \n",
    "\n",
    "if length < 15 and width < 15 and height < 15:\n",
    "    print ('Коробка №1')\n",
    "elif length > 200:\n",
    "    print ('Упаковка для лыж')\n",
    "elif 15 < length < 50 or 15 < width < 50 or 15 < height < 50:\n",
    "    print ('Коробка №2')\n",
    "else:\n",
    "    print ('Стандартная коробка №3')\n",
    "    "
   ]
  },
  {
   "cell_type": "markdown",
   "metadata": {},
   "source": [
    "# Задание 5. Счастливый билет."
   ]
  },
  {
   "cell_type": "code",
   "execution_count": null,
   "metadata": {},
   "outputs": [],
   "source": []
  }
 ],
 "metadata": {
  "kernelspec": {
   "display_name": "Python 3",
   "language": "python",
   "name": "python3"
  },
  "language_info": {
   "codemirror_mode": {
    "name": "ipython",
    "version": 3
   },
   "file_extension": ".py",
   "mimetype": "text/x-python",
   "name": "python",
   "nbconvert_exporter": "python",
   "pygments_lexer": "ipython3",
   "version": "3.8.5"
  }
 },
 "nbformat": 4,
 "nbformat_minor": 4
}
