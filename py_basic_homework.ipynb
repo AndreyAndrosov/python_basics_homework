{
 "cells": [
  {
   "cell_type": "markdown",
   "metadata": {},
   "source": [
    "# Задание 1. Длина фразы."
   ]
  },
  {
   "cell_type": "code",
   "execution_count": 1,
   "metadata": {},
   "outputs": [
    {
     "name": "stdout",
     "output_type": "stream",
     "text": [
      "Фраза 1 длиннее фразы 2\n"
     ]
    }
   ],
   "source": [
    "phrase_1 = 'Насколько проще было бы писать программы, если бы не заказчики'\n",
    "phrase_2 = '640Кб должно хватить для любых задач. Билл Гейтс (по легенде)'\n",
    "\n",
    "if len (phrase_1) > len (phrase_2):\n",
    "    print('Фраза 1 длиннее фразы 2')\n",
    "elif len (phrase_1) == len (phrase_2):\n",
    "    print('Фразы равной длины')\n",
    "else:\n",
    "    print('Фраза 2 длиннее фразы 1')\n",
    "   "
   ]
  },
  {
   "cell_type": "code",
   "execution_count": 30,
   "metadata": {},
   "outputs": [
    {
     "name": "stdout",
     "output_type": "stream",
     "text": [
      "Фраза 2 длиннее фразы 1\n"
     ]
    }
   ],
   "source": [
    "phrase_1 = '640Кб должно хватить для любых задач. Билл Гейтс (по легенде)'\n",
    "phrase_2 = 'Насколько проще было бы писать программы, если бы не заказчики'\n",
    "\n",
    "if len (phrase_1) > len (phrase_2):\n",
    "    print('Фраза 1 длиннее фразы 2')\n",
    "elif len (phrase_1) == len (phrase_2):\n",
    "    print('Фразы равной длины')\n",
    "else:\n",
    "    print('Фраза 2 длиннее фразы 1')"
   ]
  },
  {
   "cell_type": "code",
   "execution_count": 31,
   "metadata": {},
   "outputs": [
    {
     "name": "stdout",
     "output_type": "stream",
     "text": [
      "Фразы равной длины\n"
     ]
    }
   ],
   "source": [
    "phrase_1 = 'Насколько проще было бы писать программы, если бы не заказчики'\n",
    "phrase_2 = 'Насколько проще было бы писать программы, если бы не заказчики'\n",
    "\n",
    "if len (phrase_1) > len (phrase_2):\n",
    "    print('Фраза 1 длиннее фразы 2')\n",
    "elif len (phrase_1) == len (phrase_2):\n",
    "    print('Фразы равной длины')\n",
    "else:\n",
    "    print('Фраза 2 длиннее фразы 1')"
   ]
  },
  {
   "cell_type": "markdown",
   "metadata": {},
   "source": [
    "# Задание 2 Високосный год."
   ]
  },
  {
   "cell_type": "code",
   "execution_count": 2,
   "metadata": {},
   "outputs": [
    {
     "name": "stdout",
     "output_type": "stream",
     "text": [
      "Введите год: 2021\n",
      "2021 - обычный год\n"
     ]
    }
   ],
   "source": [
    "year = int(input('Введите год: '))\n",
    "\n",
    "if year % 4 == 0:\n",
    "    print(year, '- високосный год')\n",
    "else:\n",
    "    print(year, '- обычный год')"
   ]
  },
  {
   "cell_type": "markdown",
   "metadata": {},
   "source": [
    "# Задание 3. Знак Зодиака."
   ]
  },
  {
   "cell_type": "code",
   "execution_count": 7,
   "metadata": {},
   "outputs": [
    {
     "name": "stdout",
     "output_type": "stream",
     "text": [
      "Введите день рождения: 26\n",
      "Введите месяц рождения: Май\n",
      "Ваш знак зодиака - Близнец\n"
     ]
    }
   ],
   "source": [
    "day = int(input('Введите день рождения: '))\n",
    "month = input('Введите месяц рождения: ')\n",
    "\n",
    "if day >= 21 and month == 'Март' or day <= 20 and month == 'Апрель':\n",
    "    print('Ваш знак зодиака - Овен')\n",
    "elif day >= 21 and month == 'Апрель' or day <= 21 and month == 'Май':\n",
    "    print('Ваш знак зодиака - Телец')\n",
    "elif day >= 22 and month == 'Май' or day <= 21 and month == 'Июнь':\n",
    "    print('Ваш знак зодиака - Близнец')\n",
    "elif day >= 22 and month == 'Июнь' or day <= 22 and month == 'Июль':\n",
    "    print('Ваш знак зодиака - Рак')\n",
    "elif day >= 23 and month == 'Июль' or day <= 23 and month == 'Август':\n",
    "    print('Ваш знак зодиака - Лев')\n",
    "elif day >= 24 and month == 'Август' or day <= 22 and month == 'Сентябрь':\n",
    "    print('Ваш знак зодиака - Дева')\n",
    "elif day >= 23 and month == 'Сентябрь' or day <= 23 and month == 'Октябрь':\n",
    "    print('Ваш знак зодиака - Весы')\n",
    "elif day >= 24 and month == 'Октябрь' or day <= 22 and month == 'Ноябрь':\n",
    "    print('Ваш знак зодиака - Скорпион')\n",
    "elif day >= 23 and month == 'Ноябрь' or day <= 22 and month == 'Декабрь':\n",
    "    print('Ваш знак зодиака - Стрелец')\n",
    "elif day >= 23 and month == 'Декабрь' or day <= 20 and month == 'Январь':\n",
    "    print('Ваш знак зодиака - Козерог')\n",
    "elif day >= 21 and month == 'Январь' or day <= 19 and month == 'Февраль':\n",
    "    print('Ваш знак зодиака - Водолей')\n",
    "else:\n",
    "    print('Ваш знак зодиака - Рыбы')\n"
   ]
  },
  {
   "cell_type": "markdown",
   "metadata": {},
   "source": [
    "# Задание 4. Подбор упаковки."
   ]
  },
  {
   "cell_type": "code",
   "execution_count": 15,
   "metadata": {},
   "outputs": [
    {
     "name": "stdout",
     "output_type": "stream",
     "text": [
      "Введите длину товара в см.: 12\n",
      "Введите ширину товара в см.: 23\n",
      "Введите высоту товара в см.: 12\n",
      "Коробка №2\n"
     ]
    }
   ],
   "source": [
    "length = int(input('Введите длину товара в см.: '))\n",
    "width = int(input('Введите ширину товара в см.: '))\n",
    "height = int(input('Введите высоту товара в см.: ')) \n",
    "\n",
    "if length < 15 and width < 15 and height < 15:\n",
    "    print ('Коробка №1')\n",
    "elif length > 200:\n",
    "    print ('Упаковка для лыж')\n",
    "elif 15 < length < 50 or 15 < width < 50 or 15 < height < 50:\n",
    "    print ('Коробка №2')\n",
    "else:\n",
    "    print ('Стандартная коробка №3')\n",
    "    "
   ]
  },
  {
   "cell_type": "markdown",
   "metadata": {},
   "source": [
    "# Задание 5. Счастливый билет."
   ]
  },
  {
   "cell_type": "markdown",
   "metadata": {},
   "source": [
    "1. Решение, которое я сам придумал:"
   ]
  },
  {
   "cell_type": "code",
   "execution_count": 5,
   "metadata": {},
   "outputs": [
    {
     "name": "stdout",
     "output_type": "stream",
     "text": [
      "Введите шестизначный номер билета: 997988\n",
      "Билет \"счастливый\"!\n"
     ]
    }
   ],
   "source": [
    "# Определяем номер билета, как число.\n",
    "\n",
    "x = int(input('Введите шестизначный номер билета: '))\n",
    "\n",
    "# Находим по очереди все цифры в числе - номере билета:\n",
    "# Назову переменные f (figure)1 - f6, где 1 - старший разряд, 6 - младший(единицы в числе - номере билета):\n",
    "# \"Целочисленным\" делением отсекаем \"лишние\" разряды:\n",
    "\n",
    "f1 = x//100000\n",
    "f2 = x//10000 - f1*10\n",
    "f3 = x//1000 - (x//10000)*10\n",
    "f4 = x//100 - (x//1000)*10\n",
    "f5 = x//10 -(x//100)*10\n",
    "f6 = x-(x//10)*10\n",
    "\n",
    "# Теперь суммируем и сравниваем первые три цифры и последние три:\n",
    "\n",
    "if (f1 + f2 + f3) == (f4 + f5 + f6):\n",
    "    print ('Билет \"счастливый\"!')\n",
    "else:\n",
    "    print ('Билет обычный')\n"
   ]
  },
  {
   "cell_type": "markdown",
   "metadata": {},
   "source": [
    "2. Решение, которое я нашел в интернете. Тут идет работа со строками, я такого не знал, но умение найти решение в источниках тоже важно :-)"
   ]
  },
  {
   "cell_type": "code",
   "execution_count": 14,
   "metadata": {},
   "outputs": [
    {
     "name": "stdout",
     "output_type": "stream",
     "text": [
      "Введите шестизначный номер билета: 999988\n",
      "Билет обычный\n"
     ]
    }
   ],
   "source": [
    "# Определяем каждую цифру номера билета, как число в строке:\n",
    "\n",
    "a = [int(i) for i in input('Введите шестизначный номер билета: ')]\n",
    "\n",
    "# Сравниваем суммы первых трех \"знаков\" и последних трех \"знаков\" в строке:\n",
    "\n",
    "if sum(a[:3]) == sum (a[3:]):\n",
    "    print ('Билет \"счастливый\"!')\n",
    "else:\n",
    "    print ('Билет обычный')"
   ]
  },
  {
   "cell_type": "markdown",
   "metadata": {},
   "source": [
    "Вывод: оба решения работают. Мне гооораздо(!!!) больше нравится решение №2 - где оперируют со строками. Оно короче и вообще приятнее на вид. Но решение не мое, но это только значит, что надо поглубже разобраться с операциями со строками. "
   ]
  },
  {
   "cell_type": "markdown",
   "metadata": {},
   "source": [
    "# Задание 6. Формула площади фигуры."
   ]
  },
  {
   "cell_type": "code",
   "execution_count": null,
   "metadata": {},
   "outputs": [],
   "source": []
  }
 ],
 "metadata": {
  "kernelspec": {
   "display_name": "Python 3",
   "language": "python",
   "name": "python3"
  },
  "language_info": {
   "codemirror_mode": {
    "name": "ipython",
    "version": 3
   },
   "file_extension": ".py",
   "mimetype": "text/x-python",
   "name": "python",
   "nbconvert_exporter": "python",
   "pygments_lexer": "ipython3",
   "version": "3.8.5"
  }
 },
 "nbformat": 4,
 "nbformat_minor": 4
}
