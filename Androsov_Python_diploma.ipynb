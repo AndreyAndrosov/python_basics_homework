{
  "nbformat": 4,
  "nbformat_minor": 0,
  "metadata": {
    "colab": {
      "name": "Androsov_Python_diploma.ipynb",
      "provenance": [],
      "collapsed_sections": [],
      "authorship_tag": "ABX9TyMNa6tzIS0qfEE8T1QJTRVu"
    },
    "kernelspec": {
      "name": "python3",
      "display_name": "Python 3"
    },
    "language_info": {
      "name": "python"
    }
  },
  "cells": [
    {
      "cell_type": "markdown",
      "metadata": {
        "id": "79r35nvxkaCg"
      },
      "source": [
        "### Дипломная работа по курсу «Python для анализа данных»"
      ]
    },
    {
      "cell_type": "markdown",
      "metadata": {
        "id": "tYd9bFco1hhn"
      },
      "source": [
        "- Рассчитайте основные статистики для переменных(среднее, медиана, мода, мин/макс, сред.отклонение)\n",
        "- Рассчитайте и визуализируйте корреляционную матрицу для количественных переменных. Определите две самые скоррелированные и две наименее скоррелированные переменные\n",
        "- Рассчитайте сколько сотрудников работает в каждом департаменте\n",
        "- Покажите распределение сотрудников по зарплатам\n",
        "- Покажите распределение сотрудников по зарплатам в каждом департаменте по отдельности\n",
        "- Проверьте гипотезу, что сотрудники с высоким окладом проводят на работе больше времени, чем сотрудники с низким окладом\n",
        "- Рассчитайте следующие показатели среди уволившихся и неуволившихся сотрудников (по отдельности):\\\n",
        "●Доля сотрудников с повышением за последние 5 лет\\\n",
        "●Средняя степень удовлетворенности\\\n",
        "●Среднее количество проектов\n",
        "- Разделите данные на тестовую и обучающую выборкиПостроить модель LDA, предсказывающую уволился лисотрудник на основе имеющихся факторов (кроме department иsalary)Оценить качество модели на тестовой выборке\n",
        "\n"
      ]
    },
    {
      "cell_type": "code",
      "metadata": {
        "id": "jFYSD7oOkBQh"
      },
      "source": [
        "import numpy as np\n",
        "from scipy.stats import t\n",
        "from scipy.stats import norm\n",
        "import matplotlib.pyplot as plt\n",
        "from scipy import stats\n",
        "import pandas as pd\n",
        "import io\n",
        "import requests\n",
        "import seaborn as sns\n",
        "import statistics"
      ],
      "execution_count": 1,
      "outputs": []
    },
    {
      "cell_type": "code",
      "metadata": {
        "colab": {
          "base_uri": "https://localhost:8080/",
          "height": 224
        },
        "id": "TOSswW_tkiGK",
        "outputId": "b385bda1-b481-44ec-a959-184ddbc2c90e"
      },
      "source": [
        "data = pd.read_csv('HR.csv')\n",
        "data.head()"
      ],
      "execution_count": 2,
      "outputs": [
        {
          "output_type": "execute_result",
          "data": {
            "text/html": [
              "<div>\n",
              "<style scoped>\n",
              "    .dataframe tbody tr th:only-of-type {\n",
              "        vertical-align: middle;\n",
              "    }\n",
              "\n",
              "    .dataframe tbody tr th {\n",
              "        vertical-align: top;\n",
              "    }\n",
              "\n",
              "    .dataframe thead th {\n",
              "        text-align: right;\n",
              "    }\n",
              "</style>\n",
              "<table border=\"1\" class=\"dataframe\">\n",
              "  <thead>\n",
              "    <tr style=\"text-align: right;\">\n",
              "      <th></th>\n",
              "      <th>satisfaction_level</th>\n",
              "      <th>last_evaluation</th>\n",
              "      <th>number_project</th>\n",
              "      <th>average_montly_hours</th>\n",
              "      <th>time_spend_company</th>\n",
              "      <th>Work_accident</th>\n",
              "      <th>left</th>\n",
              "      <th>promotion_last_5years</th>\n",
              "      <th>department</th>\n",
              "      <th>salary</th>\n",
              "    </tr>\n",
              "  </thead>\n",
              "  <tbody>\n",
              "    <tr>\n",
              "      <th>0</th>\n",
              "      <td>0.38</td>\n",
              "      <td>0.53</td>\n",
              "      <td>2</td>\n",
              "      <td>157</td>\n",
              "      <td>3</td>\n",
              "      <td>0</td>\n",
              "      <td>1</td>\n",
              "      <td>0</td>\n",
              "      <td>sales</td>\n",
              "      <td>low</td>\n",
              "    </tr>\n",
              "    <tr>\n",
              "      <th>1</th>\n",
              "      <td>0.80</td>\n",
              "      <td>0.86</td>\n",
              "      <td>5</td>\n",
              "      <td>262</td>\n",
              "      <td>6</td>\n",
              "      <td>0</td>\n",
              "      <td>1</td>\n",
              "      <td>0</td>\n",
              "      <td>sales</td>\n",
              "      <td>medium</td>\n",
              "    </tr>\n",
              "    <tr>\n",
              "      <th>2</th>\n",
              "      <td>0.11</td>\n",
              "      <td>0.88</td>\n",
              "      <td>7</td>\n",
              "      <td>272</td>\n",
              "      <td>4</td>\n",
              "      <td>0</td>\n",
              "      <td>1</td>\n",
              "      <td>0</td>\n",
              "      <td>sales</td>\n",
              "      <td>medium</td>\n",
              "    </tr>\n",
              "    <tr>\n",
              "      <th>3</th>\n",
              "      <td>0.72</td>\n",
              "      <td>0.87</td>\n",
              "      <td>5</td>\n",
              "      <td>223</td>\n",
              "      <td>5</td>\n",
              "      <td>0</td>\n",
              "      <td>1</td>\n",
              "      <td>0</td>\n",
              "      <td>sales</td>\n",
              "      <td>low</td>\n",
              "    </tr>\n",
              "    <tr>\n",
              "      <th>4</th>\n",
              "      <td>0.37</td>\n",
              "      <td>0.52</td>\n",
              "      <td>2</td>\n",
              "      <td>159</td>\n",
              "      <td>3</td>\n",
              "      <td>0</td>\n",
              "      <td>1</td>\n",
              "      <td>0</td>\n",
              "      <td>sales</td>\n",
              "      <td>low</td>\n",
              "    </tr>\n",
              "  </tbody>\n",
              "</table>\n",
              "</div>"
            ],
            "text/plain": [
              "   satisfaction_level  last_evaluation  ...  department  salary\n",
              "0                0.38             0.53  ...       sales     low\n",
              "1                0.80             0.86  ...       sales  medium\n",
              "2                0.11             0.88  ...       sales  medium\n",
              "3                0.72             0.87  ...       sales     low\n",
              "4                0.37             0.52  ...       sales     low\n",
              "\n",
              "[5 rows x 10 columns]"
            ]
          },
          "metadata": {
            "tags": []
          },
          "execution_count": 2
        }
      ]
    },
    {
      "cell_type": "code",
      "metadata": {
        "colab": {
          "base_uri": "https://localhost:8080/"
        },
        "id": "WdVuteO4nFsy",
        "outputId": "b4036a9a-2567-48f8-f111-782eb7fdccc5"
      },
      "source": [
        "# проверим на заполненность:\n",
        "data.shape"
      ],
      "execution_count": 98,
      "outputs": [
        {
          "output_type": "execute_result",
          "data": {
            "text/plain": [
              "(14999, 11)"
            ]
          },
          "metadata": {
            "tags": []
          },
          "execution_count": 98
        }
      ]
    },
    {
      "cell_type": "code",
      "metadata": {
        "id": "qcAGvBEgnG0y"
      },
      "source": [
        "data = data.dropna()"
      ],
      "execution_count": 99,
      "outputs": []
    },
    {
      "cell_type": "code",
      "metadata": {
        "colab": {
          "base_uri": "https://localhost:8080/"
        },
        "id": "f3CqR3oUnKLJ",
        "outputId": "cfddf53f-90ce-438c-aa48-07adaee42060"
      },
      "source": [
        "data.shape"
      ],
      "execution_count": 100,
      "outputs": [
        {
          "output_type": "execute_result",
          "data": {
            "text/plain": [
              "(14999, 11)"
            ]
          },
          "metadata": {
            "tags": []
          },
          "execution_count": 100
        }
      ]
    },
    {
      "cell_type": "markdown",
      "metadata": {
        "id": "fIkxDMmY1an8"
      },
      "source": [
        "Нулевых значений в данных нет."
      ]
    },
    {
      "cell_type": "markdown",
      "metadata": {
        "id": "zVu5wDNe1d1f"
      },
      "source": [
        "### 1. Основные статистики для количественных показателей"
      ]
    },
    {
      "cell_type": "code",
      "metadata": {
        "colab": {
          "base_uri": "https://localhost:8080/",
          "height": 317
        },
        "id": "Jp_xctcM1bdd",
        "outputId": "275c0961-9530-4e05-9235-5cfea4469a3d"
      },
      "source": [
        "data.describe()"
      ],
      "execution_count": 101,
      "outputs": [
        {
          "output_type": "execute_result",
          "data": {
            "text/html": [
              "<div>\n",
              "<style scoped>\n",
              "    .dataframe tbody tr th:only-of-type {\n",
              "        vertical-align: middle;\n",
              "    }\n",
              "\n",
              "    .dataframe tbody tr th {\n",
              "        vertical-align: top;\n",
              "    }\n",
              "\n",
              "    .dataframe thead th {\n",
              "        text-align: right;\n",
              "    }\n",
              "</style>\n",
              "<table border=\"1\" class=\"dataframe\">\n",
              "  <thead>\n",
              "    <tr style=\"text-align: right;\">\n",
              "      <th></th>\n",
              "      <th>satisfaction_level</th>\n",
              "      <th>last_evaluation</th>\n",
              "      <th>number_project</th>\n",
              "      <th>average_montly_hours</th>\n",
              "      <th>time_spend_company</th>\n",
              "      <th>Work_accident</th>\n",
              "      <th>left</th>\n",
              "      <th>promotion_last_5years</th>\n",
              "      <th>new_salary</th>\n",
              "    </tr>\n",
              "  </thead>\n",
              "  <tbody>\n",
              "    <tr>\n",
              "      <th>count</th>\n",
              "      <td>14999.000000</td>\n",
              "      <td>14999.000000</td>\n",
              "      <td>14999.000000</td>\n",
              "      <td>14999.000000</td>\n",
              "      <td>14999.000000</td>\n",
              "      <td>14999.000000</td>\n",
              "      <td>14999.000000</td>\n",
              "      <td>14999.000000</td>\n",
              "      <td>14999.000000</td>\n",
              "    </tr>\n",
              "    <tr>\n",
              "      <th>mean</th>\n",
              "      <td>0.612834</td>\n",
              "      <td>0.716102</td>\n",
              "      <td>3.803054</td>\n",
              "      <td>201.050337</td>\n",
              "      <td>3.498233</td>\n",
              "      <td>0.144610</td>\n",
              "      <td>0.238083</td>\n",
              "      <td>0.021268</td>\n",
              "      <td>0.594706</td>\n",
              "    </tr>\n",
              "    <tr>\n",
              "      <th>std</th>\n",
              "      <td>0.248631</td>\n",
              "      <td>0.171169</td>\n",
              "      <td>1.232592</td>\n",
              "      <td>49.943099</td>\n",
              "      <td>1.460136</td>\n",
              "      <td>0.351719</td>\n",
              "      <td>0.425924</td>\n",
              "      <td>0.144281</td>\n",
              "      <td>0.637183</td>\n",
              "    </tr>\n",
              "    <tr>\n",
              "      <th>min</th>\n",
              "      <td>0.090000</td>\n",
              "      <td>0.360000</td>\n",
              "      <td>2.000000</td>\n",
              "      <td>96.000000</td>\n",
              "      <td>2.000000</td>\n",
              "      <td>0.000000</td>\n",
              "      <td>0.000000</td>\n",
              "      <td>0.000000</td>\n",
              "      <td>0.000000</td>\n",
              "    </tr>\n",
              "    <tr>\n",
              "      <th>25%</th>\n",
              "      <td>0.440000</td>\n",
              "      <td>0.560000</td>\n",
              "      <td>3.000000</td>\n",
              "      <td>156.000000</td>\n",
              "      <td>3.000000</td>\n",
              "      <td>0.000000</td>\n",
              "      <td>0.000000</td>\n",
              "      <td>0.000000</td>\n",
              "      <td>0.000000</td>\n",
              "    </tr>\n",
              "    <tr>\n",
              "      <th>50%</th>\n",
              "      <td>0.640000</td>\n",
              "      <td>0.720000</td>\n",
              "      <td>4.000000</td>\n",
              "      <td>200.000000</td>\n",
              "      <td>3.000000</td>\n",
              "      <td>0.000000</td>\n",
              "      <td>0.000000</td>\n",
              "      <td>0.000000</td>\n",
              "      <td>1.000000</td>\n",
              "    </tr>\n",
              "    <tr>\n",
              "      <th>75%</th>\n",
              "      <td>0.820000</td>\n",
              "      <td>0.870000</td>\n",
              "      <td>5.000000</td>\n",
              "      <td>245.000000</td>\n",
              "      <td>4.000000</td>\n",
              "      <td>0.000000</td>\n",
              "      <td>0.000000</td>\n",
              "      <td>0.000000</td>\n",
              "      <td>1.000000</td>\n",
              "    </tr>\n",
              "    <tr>\n",
              "      <th>max</th>\n",
              "      <td>1.000000</td>\n",
              "      <td>1.000000</td>\n",
              "      <td>7.000000</td>\n",
              "      <td>310.000000</td>\n",
              "      <td>10.000000</td>\n",
              "      <td>1.000000</td>\n",
              "      <td>1.000000</td>\n",
              "      <td>1.000000</td>\n",
              "      <td>2.000000</td>\n",
              "    </tr>\n",
              "  </tbody>\n",
              "</table>\n",
              "</div>"
            ],
            "text/plain": [
              "       satisfaction_level  last_evaluation  ...  promotion_last_5years    new_salary\n",
              "count        14999.000000     14999.000000  ...           14999.000000  14999.000000\n",
              "mean             0.612834         0.716102  ...               0.021268      0.594706\n",
              "std              0.248631         0.171169  ...               0.144281      0.637183\n",
              "min              0.090000         0.360000  ...               0.000000      0.000000\n",
              "25%              0.440000         0.560000  ...               0.000000      0.000000\n",
              "50%              0.640000         0.720000  ...               0.000000      1.000000\n",
              "75%              0.820000         0.870000  ...               0.000000      1.000000\n",
              "max              1.000000         1.000000  ...               1.000000      2.000000\n",
              "\n",
              "[8 rows x 9 columns]"
            ]
          },
          "metadata": {
            "tags": []
          },
          "execution_count": 101
        }
      ]
    },
    {
      "cell_type": "markdown",
      "metadata": {
        "id": "mJ1dLc994yx_"
      },
      "source": [
        "Найдем моду для каждого параметра"
      ]
    },
    {
      "cell_type": "code",
      "metadata": {
        "colab": {
          "base_uri": "https://localhost:8080/"
        },
        "id": "3hakQlgV44eK",
        "outputId": "7c44e544-f836-42a6-ca2a-8d0f5f0f567c"
      },
      "source": [
        "# \"закомментировал\" параметр average_montly_hours, чтобы не выдавало ошибку, далее покажу, почему:\n",
        "print(f'satisfaction_level: {statistics.mode(data.satisfaction_level):.2f}')\n",
        "print(f'last_evaluation: {statistics.mode(data.last_evaluation):.2f}')\n",
        "print(f'number_project: {statistics.mode(data.number_project):.2f}')\n",
        "#print(f'average_montly_hours: {statistics.mode(data.average_montly_hours):.2f}')\n",
        "print(f'time_spend_company: {statistics.mode(data.time_spend_company):.2f}')\n",
        "print(f'Work_accident: {statistics.mode(data.Work_accident):.2f}')\n",
        "print(f'left: {statistics.mode(data.left):.2f}')\n",
        "print(f'promotion_last_5years: {statistics.mode(data.promotion_last_5years):.2f}')"
      ],
      "execution_count": 102,
      "outputs": [
        {
          "output_type": "stream",
          "text": [
            "satisfaction_level: 0.10\n",
            "last_evaluation: 0.55\n",
            "number_project: 4.00\n",
            "time_spend_company: 3.00\n",
            "Work_accident: 0.00\n",
            "left: 0.00\n",
            "promotion_last_5years: 0.00\n"
          ],
          "name": "stdout"
        }
      ]
    },
    {
      "cell_type": "code",
      "metadata": {
        "colab": {
          "base_uri": "https://localhost:8080/",
          "height": 282
        },
        "id": "LHe8NylRxqE8",
        "outputId": "dfa6268b-ba87-4514-f4f6-6f6a3a49faa4"
      },
      "source": [
        "print(f'average_montly_hours: {statistics.mode(data.average_montly_hours):.2f}')"
      ],
      "execution_count": 103,
      "outputs": [
        {
          "output_type": "error",
          "ename": "StatisticsError",
          "evalue": "ignored",
          "traceback": [
            "\u001b[0;31m---------------------------------------------------------------------------\u001b[0m",
            "\u001b[0;31mStatisticsError\u001b[0m                           Traceback (most recent call last)",
            "\u001b[0;32m<ipython-input-103-d181091d59f0>\u001b[0m in \u001b[0;36m<module>\u001b[0;34m()\u001b[0m\n\u001b[0;32m----> 1\u001b[0;31m \u001b[0mprint\u001b[0m\u001b[0;34m(\u001b[0m\u001b[0;34mf'average_montly_hours: {statistics.mode(data.average_montly_hours):.2f}'\u001b[0m\u001b[0;34m)\u001b[0m\u001b[0;34m\u001b[0m\u001b[0;34m\u001b[0m\u001b[0m\n\u001b[0m",
            "\u001b[0;32m/usr/lib/python3.7/statistics.py\u001b[0m in \u001b[0;36mmode\u001b[0;34m(data)\u001b[0m\n\u001b[1;32m    504\u001b[0m     \u001b[0;32melif\u001b[0m \u001b[0mtable\u001b[0m\u001b[0;34m:\u001b[0m\u001b[0;34m\u001b[0m\u001b[0;34m\u001b[0m\u001b[0m\n\u001b[1;32m    505\u001b[0m         raise StatisticsError(\n\u001b[0;32m--> 506\u001b[0;31m                 \u001b[0;34m'no unique mode; found %d equally common values'\u001b[0m \u001b[0;34m%\u001b[0m \u001b[0mlen\u001b[0m\u001b[0;34m(\u001b[0m\u001b[0mtable\u001b[0m\u001b[0;34m)\u001b[0m\u001b[0;34m\u001b[0m\u001b[0;34m\u001b[0m\u001b[0m\n\u001b[0m\u001b[1;32m    507\u001b[0m                 )\n\u001b[1;32m    508\u001b[0m     \u001b[0;32melse\u001b[0m\u001b[0;34m:\u001b[0m\u001b[0;34m\u001b[0m\u001b[0;34m\u001b[0m\u001b[0m\n",
            "\u001b[0;31mStatisticsError\u001b[0m: no unique mode; found 2 equally common values"
          ]
        }
      ]
    },
    {
      "cell_type": "markdown",
      "metadata": {
        "id": "uNP6zkrExs2j"
      },
      "source": [
        "Так, по параметру average_montly_hours чаще всего встречаются два значения...\\\n",
        "Посмотрим, какие:\n",
        "\n",
        "---\n",
        "\n"
      ]
    },
    {
      "cell_type": "code",
      "metadata": {
        "colab": {
          "base_uri": "https://localhost:8080/"
        },
        "id": "DdTjFzOLyAhj",
        "outputId": "22688051-a86c-4dd9-e6a9-b23660327595"
      },
      "source": [
        "data.average_montly_hours.value_counts().head()"
      ],
      "execution_count": 105,
      "outputs": [
        {
          "output_type": "execute_result",
          "data": {
            "text/plain": [
              "156    153\n",
              "135    153\n",
              "149    148\n",
              "151    147\n",
              "160    136\n",
              "Name: average_montly_hours, dtype: int64"
            ]
          },
          "metadata": {
            "tags": []
          },
          "execution_count": 105
        }
      ]
    },
    {
      "cell_type": "markdown",
      "metadata": {
        "id": "GFagiIXScysP"
      },
      "source": [
        "Значения: 156 и 135 встречаются по 153 раза. Ок."
      ]
    },
    {
      "cell_type": "markdown",
      "metadata": {
        "id": "5aj2x_dC2tkw"
      },
      "source": [
        "### 2. Рассчитаем и визуализируем корреляционную матрицу для количественных переменных.Определите две самые скоррелированные и две наименее скоррелированные переменные"
      ]
    },
    {
      "cell_type": "code",
      "metadata": {
        "id": "wx_8nCJ85NMq"
      },
      "source": [
        "# Оставляю в таблице только количественные переменные:\n",
        "quantity_data = data[['satisfaction_level', 'last_evaluation', 'number_project', 'average_montly_hours', 'time_spend_company']]"
      ],
      "execution_count": 106,
      "outputs": []
    },
    {
      "cell_type": "code",
      "metadata": {
        "colab": {
          "base_uri": "https://localhost:8080/",
          "height": 699
        },
        "id": "ALPy8fFTcxB7",
        "outputId": "005e742b-64b5-4900-e559-165705346496"
      },
      "source": [
        "# Считаю и визуализимрую корреляцию между ними:\n",
        "sns.heatmap(quantity_data.corr(),annot=True,cmap='RdYlGn',linewidths=0.1) #data.corr()-->матрица корреляций\n",
        "fig=plt.gcf()\n",
        "fig.set_size_inches(10,10)\n",
        "plt.show()"
      ],
      "execution_count": 107,
      "outputs": [
        {
          "output_type": "display_data",
          "data": {
            "image/png": "[encoded data removed]",
            "text/plain": [
              "<Figure size 720x720 with 2 Axes>"
            ]
          },
          "metadata": {
            "tags": [],
            "needs_background": "light"
          }
        }
      ]
    },
    {
      "cell_type": "markdown",
      "metadata": {
        "id": "uz-GVVl427_v"
      },
      "source": [
        "Самые скоррелированные - среднее количество часов, проведенных на работе (average_montly_hours) и количество проектов (number_project).\\\n",
        "Самые нескоррелированные - количество проектов (number_project) и уровень удовлетворенности (satisfaction_level)\n",
        "\n",
        "-- Но лично мне интересно, что на втором месте по отсутствию корреляции стоит пара:  уровень удовлетворенности (satisfaction_level) и стаж работы в компании (time_spend_company) - получается, что, чем дольше человек работает в компании, тем менее он удовлетворен работой. Тревожный знак."
      ]
    },
    {
      "cell_type": "markdown",
      "metadata": {
        "id": "stIiWJBeo5oL"
      },
      "source": [
        "### 3. Рассчитаем, сколько сотрудников работает в каждом департаменте"
      ]
    },
    {
      "cell_type": "code",
      "metadata": {
        "id": "OZMtwPl5eIfG",
        "colab": {
          "base_uri": "https://localhost:8080/"
        },
        "outputId": "15a1601a-fc3f-40fd-fa9f-d89c9d160e77"
      },
      "source": [
        "data.department.value_counts()"
      ],
      "execution_count": 108,
      "outputs": [
        {
          "output_type": "execute_result",
          "data": {
            "text/plain": [
              "sales          4140\n",
              "technical      2720\n",
              "support        2229\n",
              "IT             1227\n",
              "product_mng     902\n",
              "marketing       858\n",
              "RandD           787\n",
              "accounting      767\n",
              "hr              739\n",
              "management      630\n",
              "Name: department, dtype: int64"
            ]
          },
          "metadata": {
            "tags": []
          },
          "execution_count": 108
        }
      ]
    },
    {
      "cell_type": "markdown",
      "metadata": {
        "id": "nQHWwbT0hDpw"
      },
      "source": [
        "Продажи и обслуживание - технари, поддержка и IT - самые большие подразделения. Менеджмент - самое маленькое \"подразделение\", что логично.\\\n",
        "Смущает, что при  таком количестве IT спецов, что говорит о значительной компьютеризации компании, такое большое количество бухгалтеров (accounting) и специалистов по персоналу (hr) (на количество работников).\\\n",
        "Это может быть связано с тем, что профиль компании - розница всякой мелочи, типа канцтоваров, когда позиций очень много, или (и) расчет зарплаты сложен из-за хитрой системы оплаты труда и текучки. По службе персонала - да, скорее всего текучка имеет место - то есть розница мелкая и персонал в полях низкооплачиваемый и низкоквалифицированный, поэтому \"текучий\".\\\n",
        "Я бы подумал, что  речь идет о компании по рознице прессы, что-то вроде СоюзПечати (киоск, женщина и много мелочей вокруг). "
      ]
    },
    {
      "cell_type": "markdown",
      "metadata": {
        "id": "4um7JAzAjxd_"
      },
      "source": [
        "### 4. Показать распределение сотрудников по зарплатам"
      ]
    },
    {
      "cell_type": "code",
      "metadata": {
        "id": "bTHCuK96oZFT"
      },
      "source": [
        "# Сначала \"оцифруем\" показатели уровня зарплат\n",
        "data.loc[data.salary == 'low', 'new_salary'] = 0\n",
        "data.loc[data.salary == 'medium', 'new_salary'] = 1\n",
        "data.loc[data.salary == 'high', 'new_salary'] = 2"
      ],
      "execution_count": 109,
      "outputs": []
    },
    {
      "cell_type": "code",
      "metadata": {
        "colab": {
          "base_uri": "https://localhost:8080/"
        },
        "id": "e8q6Ugcbk8Qh",
        "outputId": "0e8ee4dd-a0eb-4590-af48-1df21fa20a8a"
      },
      "source": [
        "data.salary.value_counts()"
      ],
      "execution_count": 110,
      "outputs": [
        {
          "output_type": "execute_result",
          "data": {
            "text/plain": [
              "low       7316\n",
              "medium    6446\n",
              "high      1237\n",
              "Name: salary, dtype: int64"
            ]
          },
          "metadata": {
            "tags": []
          },
          "execution_count": 110
        }
      ]
    },
    {
      "cell_type": "markdown",
      "metadata": {
        "id": "QXVBeEFUlMGl"
      },
      "source": [
        "Итак, больше всех - сотрудников с низкими зарплатами (low), меньше всех - сотрудников с высокими зарплатами (high). Обычный расклад.\\\n",
        "Визуализируем:"
      ]
    },
    {
      "cell_type": "code",
      "metadata": {
        "colab": {
          "base_uri": "https://localhost:8080/",
          "height": 295
        },
        "id": "K_rL7RB4pBgb",
        "outputId": "92d4bbfe-0493-4ed0-ab56-581e7b18cb08"
      },
      "source": [
        "n, bins, patches = plt.hist(data['salary'], 5, facecolor='b')\n",
        "\n",
        "plt.xlabel('Уровень зарплаты')\n",
        "plt.ylabel('Количество сотрудников')\n",
        "plt.title('Количество сотрудников по уровням зарплат')\n",
        "plt.grid(True)\n",
        "plt.show()"
      ],
      "execution_count": 111,
      "outputs": [
        {
          "output_type": "display_data",
          "data": {
            "image/png": "[encoded data removed]",
            "text/plain": [
              "<Figure size 432x288 with 1 Axes>"
            ]
          },
          "metadata": {
            "tags": [],
            "needs_background": "light"
          }
        }
      ]
    },
    {
      "cell_type": "markdown",
      "metadata": {
        "id": "o_4wBMJ5pL2z"
      },
      "source": [
        "Так значительно нагляднее."
      ]
    },
    {
      "cell_type": "markdown",
      "metadata": {
        "id": "nfvc3qk-pba9"
      },
      "source": [
        "### 5. Покажем распределение сотрудников по зарплатам в каждом департаменте по отдельности"
      ]
    },
    {
      "cell_type": "markdown",
      "metadata": {
        "id": "I6srelp2l9Zr"
      },
      "source": [
        "Покажем это на графике, опять же для наглядности:"
      ]
    },
    {
      "cell_type": "code",
      "metadata": {
        "colab": {
          "base_uri": "https://localhost:8080/",
          "height": 760
        },
        "id": "Ocvl_3hcpFcB",
        "outputId": "a82aca85-da2e-4f89-c32d-e9dc41f16213"
      },
      "source": [
        "sns.relplot(x='department', \n",
        "            y='new_salary', \n",
        "            kind='line', \n",
        "            data=data,\n",
        "            height = 10)"
      ],
      "execution_count": 112,
      "outputs": [
        {
          "output_type": "execute_result",
          "data": {
            "text/plain": [
              "<seaborn.axisgrid.FacetGrid at 0x7ff0af670b10>"
            ]
          },
          "metadata": {
            "tags": []
          },
          "execution_count": 112
        },
        {
          "output_type": "display_data",
          "data": {
            "image/png": "[encoded data removed]",
            "text/plain": [
              "<Figure size 720x720 with 1 Axes>"
            ]
          },
          "metadata": {
            "tags": [],
            "needs_background": "light"
          }
        }
      ]
    },
    {
      "cell_type": "markdown",
      "metadata": {
        "id": "BL6alXJ9qUpH"
      },
      "source": [
        "  Интересные результаты. Ну, очевидно, что самые высокие зарплаты у менеджмента. На мой взгляд, чересчур большая разница в уровне зарплат топов и остальных.\\\n",
        "  А вот высокий уровень зарплат в бухгалтерии (accounting) и маркетинге (marketing) - выше, чем в остальных подразделениях - может объясняться тем, что топы по этим направлениям - главный бухгалтер и директор по маркетингу отнесены не к \"management\", а к соответствующим подразделениям.\\\n",
        "  Если это не так, то имеем обычный перекос зарплат  - кто ближе к главе, тот больше получает.\\\n",
        "  С учетом того, что: \n",
        "  1. зарплаты продажников (sales) (люди на передовой!) и \"поддержки\" (уборщицы, дворники, ремонтники) - самые низкие в компании;\n",
        "  2. зарплаты технарей (technical), продакт менеджеров (product_mng) и даже IT (IT) ниже зарплат кадровиков (hr), \n",
        "  могу предположить, что скоро дела у компании пойдут все хуже и хуже.  \n"
      ]
    },
    {
      "cell_type": "markdown",
      "metadata": {
        "id": "-C9hs9SVm-1s"
      },
      "source": [
        "### 6. Проверим гипотезу, что сотрудники с высоким окладом проводят на работе больше времени, чем сотрудники с низким окладом"
      ]
    },
    {
      "cell_type": "markdown",
      "metadata": {
        "id": "UJvjtiTcuyNx"
      },
      "source": [
        "Сколько сотрудников покинули компанию?"
      ]
    },
    {
      "cell_type": "code",
      "metadata": {
        "colab": {
          "base_uri": "https://localhost:8080/"
        },
        "id": "IgDs2RDgpj16",
        "outputId": "9dbc33d2-cc4a-4a23-977c-5115447675af"
      },
      "source": [
        "data.left.value_counts()"
      ],
      "execution_count": 113,
      "outputs": [
        {
          "output_type": "execute_result",
          "data": {
            "text/plain": [
              "0    11428\n",
              "1     3571\n",
              "Name: left, dtype: int64"
            ]
          },
          "metadata": {
            "tags": []
          },
          "execution_count": 113
        }
      ]
    },
    {
      "cell_type": "code",
      "metadata": {
        "id": "zrAUgLa1tHmO"
      },
      "source": [
        ""
      ],
      "execution_count": null,
      "outputs": []
    },
    {
      "cell_type": "markdown",
      "metadata": {
        "id": "yIaVW5F1vmFX"
      },
      "source": [
        "Гипотезы:\n",
        "\n",
        "- Н0 = сотрудники с низким окладом проводят на работе больше времени\n",
        "- Н1 = сотрудники с высоким окладом проводят на работе больше времениние"
      ]
    },
    {
      "cell_type": "code",
      "metadata": {
        "colab": {
          "base_uri": "https://localhost:8080/"
        },
        "id": "nFJx_qCwu1R_",
        "outputId": "6a47fd24-8a99-4a6c-9ce8-78a6dff051b1"
      },
      "source": [
        "\n",
        "time_low_salary = data[data['new_salary']==0]['average_montly_hours']\n",
        "\n",
        "time_high_salary = data[data['new_salary'] == 2]['average_montly_hours']\n",
        "\n",
        "\n",
        "result = stats.ttest_ind(time_low_salary , time_high_salary , equal_var=False)\n",
        "\n",
        "print(result)\n",
        "if (result.pvalue < 0.05):\n",
        "    print('Отвергаем нулевую гипотезу')\n",
        "else:\n",
        "    print('Не отвергаем нулевую гипотезу')"
      ],
      "execution_count": 77,
      "outputs": [
        {
          "output_type": "stream",
          "text": [
            "Ttest_indResult(statistic=0.7624331665385475, pvalue=0.4459045542257889)\n",
            "Не отвергаем нулевую гипотезу\n"
          ],
          "name": "stdout"
        }
      ]
    },
    {
      "cell_type": "markdown",
      "metadata": {
        "id": "XOtMFoMav4mT"
      },
      "source": [
        "\n",
        "У нас нет оснований отвергнуть нулевую гипотезу. Величина оклада не оказывает существенного влияния на количество времени, проведенного сотрудником на работе.\\\n",
        "Проверим:"
      ]
    },
    {
      "cell_type": "code",
      "metadata": {
        "colab": {
          "base_uri": "https://localhost:8080/"
        },
        "id": "uUAyFraXvt-u",
        "outputId": "a7e4129a-f8b8-4429-d899-6062950c75cf"
      },
      "source": [
        "print(data[data['new_salary'] == 0]['average_montly_hours'].mean())\n",
        "print(data[data['new_salary'] == 2]['average_montly_hours'].mean())"
      ],
      "execution_count": 70,
      "outputs": [
        {
          "output_type": "stream",
          "text": [
            "200.9965828321487\n",
            "199.86742118027485\n"
          ],
          "name": "stdout"
        }
      ]
    },
    {
      "cell_type": "markdown",
      "metadata": {
        "id": "xo0kkRcI0Zqn"
      },
      "source": [
        "Получается, что в среднем сотрудники с низкой зарплатой проводят на аботе времени больше, чем высокооплачиваемые..."
      ]
    },
    {
      "cell_type": "markdown",
      "metadata": {
        "id": "CJk-jhR70Wk6"
      },
      "source": [
        "### 7. Рассчитаем следующие показатели среди уволившихся и не уволившихся сотрудников (по отдельности): \n",
        "●Доля сотрудников с повышением за последние 5 лет\\\n",
        "●Средняя степень удовлетворенности\\\n",
        "●Среднее количество проектов"
      ]
    },
    {
      "cell_type": "markdown",
      "metadata": {
        "id": "9vmeJFm-6gJo"
      },
      "source": [
        "Сколько сотрудников покинули компанию?"
      ]
    },
    {
      "cell_type": "code",
      "metadata": {
        "colab": {
          "base_uri": "https://localhost:8080/"
        },
        "id": "dGvZwg4z6mMI",
        "outputId": "d0513706-ebdc-4c29-a25f-bb65b3936e80"
      },
      "source": [
        "data.left.value_counts()"
      ],
      "execution_count": 114,
      "outputs": [
        {
          "output_type": "execute_result",
          "data": {
            "text/plain": [
              "0    11428\n",
              "1     3571\n",
              "Name: left, dtype: int64"
            ]
          },
          "metadata": {
            "tags": []
          },
          "execution_count": 114
        }
      ]
    },
    {
      "cell_type": "markdown",
      "metadata": {
        "id": "TIOODZY-6oOi"
      },
      "source": [
        "Работают - 11428\\\n",
        "Уволились - 3571"
      ]
    },
    {
      "cell_type": "markdown",
      "metadata": {
        "id": "O4ftIAiI2Zwr"
      },
      "source": [
        "- Не уволившиеся:"
      ]
    },
    {
      "cell_type": "code",
      "metadata": {
        "id": "mAQvSwjbBALz"
      },
      "source": [
        "# Оставим только не уволившихся:\n",
        "data_left_0 = data.loc[data['left'] == 0]\n",
        "#data_left_0.head()"
      ],
      "execution_count": 115,
      "outputs": []
    },
    {
      "cell_type": "code",
      "metadata": {
        "colab": {
          "base_uri": "https://localhost:8080/",
          "height": 317
        },
        "id": "1G5RZVuoBYop",
        "outputId": "e4df63f0-445e-4277-ed56-6802045f1a47"
      },
      "source": [
        "# И посмотрим на основные статистические показатели по группе \"не уволившиеся\"\n",
        "data_left_0.describe()"
      ],
      "execution_count": 116,
      "outputs": [
        {
          "output_type": "execute_result",
          "data": {
            "text/html": [
              "<div>\n",
              "<style scoped>\n",
              "    .dataframe tbody tr th:only-of-type {\n",
              "        vertical-align: middle;\n",
              "    }\n",
              "\n",
              "    .dataframe tbody tr th {\n",
              "        vertical-align: top;\n",
              "    }\n",
              "\n",
              "    .dataframe thead th {\n",
              "        text-align: right;\n",
              "    }\n",
              "</style>\n",
              "<table border=\"1\" class=\"dataframe\">\n",
              "  <thead>\n",
              "    <tr style=\"text-align: right;\">\n",
              "      <th></th>\n",
              "      <th>satisfaction_level</th>\n",
              "      <th>last_evaluation</th>\n",
              "      <th>number_project</th>\n",
              "      <th>average_montly_hours</th>\n",
              "      <th>time_spend_company</th>\n",
              "      <th>Work_accident</th>\n",
              "      <th>left</th>\n",
              "      <th>promotion_last_5years</th>\n",
              "      <th>new_salary</th>\n",
              "    </tr>\n",
              "  </thead>\n",
              "  <tbody>\n",
              "    <tr>\n",
              "      <th>count</th>\n",
              "      <td>11428.000000</td>\n",
              "      <td>11428.000000</td>\n",
              "      <td>11428.000000</td>\n",
              "      <td>11428.000000</td>\n",
              "      <td>11428.000000</td>\n",
              "      <td>11428.000000</td>\n",
              "      <td>11428.0</td>\n",
              "      <td>11428.000000</td>\n",
              "      <td>11428.000000</td>\n",
              "    </tr>\n",
              "    <tr>\n",
              "      <th>mean</th>\n",
              "      <td>0.666810</td>\n",
              "      <td>0.715473</td>\n",
              "      <td>3.786664</td>\n",
              "      <td>199.060203</td>\n",
              "      <td>3.380032</td>\n",
              "      <td>0.175009</td>\n",
              "      <td>0.0</td>\n",
              "      <td>0.026251</td>\n",
              "      <td>0.650945</td>\n",
              "    </tr>\n",
              "    <tr>\n",
              "      <th>std</th>\n",
              "      <td>0.217104</td>\n",
              "      <td>0.162005</td>\n",
              "      <td>0.979884</td>\n",
              "      <td>45.682731</td>\n",
              "      <td>1.562348</td>\n",
              "      <td>0.379991</td>\n",
              "      <td>0.0</td>\n",
              "      <td>0.159889</td>\n",
              "      <td>0.655277</td>\n",
              "    </tr>\n",
              "    <tr>\n",
              "      <th>min</th>\n",
              "      <td>0.120000</td>\n",
              "      <td>0.360000</td>\n",
              "      <td>2.000000</td>\n",
              "      <td>96.000000</td>\n",
              "      <td>2.000000</td>\n",
              "      <td>0.000000</td>\n",
              "      <td>0.0</td>\n",
              "      <td>0.000000</td>\n",
              "      <td>0.000000</td>\n",
              "    </tr>\n",
              "    <tr>\n",
              "      <th>25%</th>\n",
              "      <td>0.540000</td>\n",
              "      <td>0.580000</td>\n",
              "      <td>3.000000</td>\n",
              "      <td>162.000000</td>\n",
              "      <td>2.000000</td>\n",
              "      <td>0.000000</td>\n",
              "      <td>0.0</td>\n",
              "      <td>0.000000</td>\n",
              "      <td>0.000000</td>\n",
              "    </tr>\n",
              "    <tr>\n",
              "      <th>50%</th>\n",
              "      <td>0.690000</td>\n",
              "      <td>0.710000</td>\n",
              "      <td>4.000000</td>\n",
              "      <td>198.000000</td>\n",
              "      <td>3.000000</td>\n",
              "      <td>0.000000</td>\n",
              "      <td>0.0</td>\n",
              "      <td>0.000000</td>\n",
              "      <td>1.000000</td>\n",
              "    </tr>\n",
              "    <tr>\n",
              "      <th>75%</th>\n",
              "      <td>0.840000</td>\n",
              "      <td>0.850000</td>\n",
              "      <td>4.000000</td>\n",
              "      <td>238.000000</td>\n",
              "      <td>4.000000</td>\n",
              "      <td>0.000000</td>\n",
              "      <td>0.0</td>\n",
              "      <td>0.000000</td>\n",
              "      <td>1.000000</td>\n",
              "    </tr>\n",
              "    <tr>\n",
              "      <th>max</th>\n",
              "      <td>1.000000</td>\n",
              "      <td>1.000000</td>\n",
              "      <td>6.000000</td>\n",
              "      <td>287.000000</td>\n",
              "      <td>10.000000</td>\n",
              "      <td>1.000000</td>\n",
              "      <td>0.0</td>\n",
              "      <td>1.000000</td>\n",
              "      <td>2.000000</td>\n",
              "    </tr>\n",
              "  </tbody>\n",
              "</table>\n",
              "</div>"
            ],
            "text/plain": [
              "       satisfaction_level  last_evaluation  ...  promotion_last_5years    new_salary\n",
              "count        11428.000000     11428.000000  ...           11428.000000  11428.000000\n",
              "mean             0.666810         0.715473  ...               0.026251      0.650945\n",
              "std              0.217104         0.162005  ...               0.159889      0.655277\n",
              "min              0.120000         0.360000  ...               0.000000      0.000000\n",
              "25%              0.540000         0.580000  ...               0.000000      0.000000\n",
              "50%              0.690000         0.710000  ...               0.000000      1.000000\n",
              "75%              0.840000         0.850000  ...               0.000000      1.000000\n",
              "max              1.000000         1.000000  ...               1.000000      2.000000\n",
              "\n",
              "[8 rows x 9 columns]"
            ]
          },
          "metadata": {
            "tags": []
          },
          "execution_count": 116
        }
      ]
    },
    {
      "cell_type": "markdown",
      "metadata": {
        "id": "3xc7cqJhCjNh"
      },
      "source": [
        "Среди работающих (\"не уволившиеся\"):\\\n",
        "Средняя степень удовлетворенности (satisfaction_level): 0,67\\\n",
        "Среднее количество проектов (number_project): 3,79\\\n",
        "Доля сотрудников с повышением за последние 5 лет (promotion_last_5years): 2,62% - необходимо пояснить:\n",
        "- поскольку в столбце \"promotion_last_5years\" только \"0\" или \"1\" (\"1\" - это \"повышенный\" сотрудник), соотношение числа повышенных (сумма этих \"единиц\") к общему количеству сотрудников есть как раз среднее арифметическое, то есть значение mean для этого столбца. Превратить его в проценты я смог в уме."
      ]
    },
    {
      "cell_type": "code",
      "metadata": {
        "colab": {
          "base_uri": "https://localhost:8080/"
        },
        "id": "GptkDFNiCz_b",
        "outputId": "ca780062-3ae3-46d0-a283-fc2afc20ef3c"
      },
      "source": [
        "# Для интереса - количество повышенных среди работающих:\n",
        "data_left_0['promotion_last_5years'].value_counts()\n",
        "# 300 человек. Всего  - 11428. Процент повышенных - 300/11428 = 0,026251"
      ],
      "execution_count": 117,
      "outputs": [
        {
          "output_type": "execute_result",
          "data": {
            "text/plain": [
              "0    11128\n",
              "1      300\n",
              "Name: promotion_last_5years, dtype: int64"
            ]
          },
          "metadata": {
            "tags": []
          },
          "execution_count": 117
        }
      ]
    },
    {
      "cell_type": "markdown",
      "metadata": {
        "id": "jPAEdghg2W8h"
      },
      "source": [
        "- уволившиеся:"
      ]
    },
    {
      "cell_type": "code",
      "metadata": {
        "id": "Qoax-jGnLJbe"
      },
      "source": [
        "# Оставим только уволившихся:\n",
        "data_left_1 = data.loc[data['left'] == 1]\n",
        "#data_left_1.head()"
      ],
      "execution_count": 118,
      "outputs": []
    },
    {
      "cell_type": "code",
      "metadata": {
        "colab": {
          "base_uri": "https://localhost:8080/",
          "height": 317
        },
        "id": "LuBx8iGYLQlU",
        "outputId": "e9e16e38-50cb-4d95-c211-3dc08e5f7bd0"
      },
      "source": [
        "# И посмотрим на показатели по группе \"не уволившиеся\"\n",
        "data_left_1.describe()"
      ],
      "execution_count": 119,
      "outputs": [
        {
          "output_type": "execute_result",
          "data": {
            "text/html": [
              "<div>\n",
              "<style scoped>\n",
              "    .dataframe tbody tr th:only-of-type {\n",
              "        vertical-align: middle;\n",
              "    }\n",
              "\n",
              "    .dataframe tbody tr th {\n",
              "        vertical-align: top;\n",
              "    }\n",
              "\n",
              "    .dataframe thead th {\n",
              "        text-align: right;\n",
              "    }\n",
              "</style>\n",
              "<table border=\"1\" class=\"dataframe\">\n",
              "  <thead>\n",
              "    <tr style=\"text-align: right;\">\n",
              "      <th></th>\n",
              "      <th>satisfaction_level</th>\n",
              "      <th>last_evaluation</th>\n",
              "      <th>number_project</th>\n",
              "      <th>average_montly_hours</th>\n",
              "      <th>time_spend_company</th>\n",
              "      <th>Work_accident</th>\n",
              "      <th>left</th>\n",
              "      <th>promotion_last_5years</th>\n",
              "      <th>new_salary</th>\n",
              "    </tr>\n",
              "  </thead>\n",
              "  <tbody>\n",
              "    <tr>\n",
              "      <th>count</th>\n",
              "      <td>3571.000000</td>\n",
              "      <td>3571.000000</td>\n",
              "      <td>3571.000000</td>\n",
              "      <td>3571.000000</td>\n",
              "      <td>3571.000000</td>\n",
              "      <td>3571.000000</td>\n",
              "      <td>3571.0</td>\n",
              "      <td>3571.000000</td>\n",
              "      <td>3571.000000</td>\n",
              "    </tr>\n",
              "    <tr>\n",
              "      <th>mean</th>\n",
              "      <td>0.440098</td>\n",
              "      <td>0.718113</td>\n",
              "      <td>3.855503</td>\n",
              "      <td>207.419210</td>\n",
              "      <td>3.876505</td>\n",
              "      <td>0.047326</td>\n",
              "      <td>1.0</td>\n",
              "      <td>0.005321</td>\n",
              "      <td>0.414730</td>\n",
              "    </tr>\n",
              "    <tr>\n",
              "      <th>std</th>\n",
              "      <td>0.263933</td>\n",
              "      <td>0.197673</td>\n",
              "      <td>1.818165</td>\n",
              "      <td>61.202825</td>\n",
              "      <td>0.977698</td>\n",
              "      <td>0.212364</td>\n",
              "      <td>0.0</td>\n",
              "      <td>0.072759</td>\n",
              "      <td>0.537341</td>\n",
              "    </tr>\n",
              "    <tr>\n",
              "      <th>min</th>\n",
              "      <td>0.090000</td>\n",
              "      <td>0.450000</td>\n",
              "      <td>2.000000</td>\n",
              "      <td>126.000000</td>\n",
              "      <td>2.000000</td>\n",
              "      <td>0.000000</td>\n",
              "      <td>1.0</td>\n",
              "      <td>0.000000</td>\n",
              "      <td>0.000000</td>\n",
              "    </tr>\n",
              "    <tr>\n",
              "      <th>25%</th>\n",
              "      <td>0.130000</td>\n",
              "      <td>0.520000</td>\n",
              "      <td>2.000000</td>\n",
              "      <td>146.000000</td>\n",
              "      <td>3.000000</td>\n",
              "      <td>0.000000</td>\n",
              "      <td>1.0</td>\n",
              "      <td>0.000000</td>\n",
              "      <td>0.000000</td>\n",
              "    </tr>\n",
              "    <tr>\n",
              "      <th>50%</th>\n",
              "      <td>0.410000</td>\n",
              "      <td>0.790000</td>\n",
              "      <td>4.000000</td>\n",
              "      <td>224.000000</td>\n",
              "      <td>4.000000</td>\n",
              "      <td>0.000000</td>\n",
              "      <td>1.0</td>\n",
              "      <td>0.000000</td>\n",
              "      <td>0.000000</td>\n",
              "    </tr>\n",
              "    <tr>\n",
              "      <th>75%</th>\n",
              "      <td>0.730000</td>\n",
              "      <td>0.900000</td>\n",
              "      <td>6.000000</td>\n",
              "      <td>262.000000</td>\n",
              "      <td>5.000000</td>\n",
              "      <td>0.000000</td>\n",
              "      <td>1.0</td>\n",
              "      <td>0.000000</td>\n",
              "      <td>1.000000</td>\n",
              "    </tr>\n",
              "    <tr>\n",
              "      <th>max</th>\n",
              "      <td>0.920000</td>\n",
              "      <td>1.000000</td>\n",
              "      <td>7.000000</td>\n",
              "      <td>310.000000</td>\n",
              "      <td>6.000000</td>\n",
              "      <td>1.000000</td>\n",
              "      <td>1.0</td>\n",
              "      <td>1.000000</td>\n",
              "      <td>2.000000</td>\n",
              "    </tr>\n",
              "  </tbody>\n",
              "</table>\n",
              "</div>"
            ],
            "text/plain": [
              "       satisfaction_level  last_evaluation  ...  promotion_last_5years   new_salary\n",
              "count         3571.000000      3571.000000  ...            3571.000000  3571.000000\n",
              "mean             0.440098         0.718113  ...               0.005321     0.414730\n",
              "std              0.263933         0.197673  ...               0.072759     0.537341\n",
              "min              0.090000         0.450000  ...               0.000000     0.000000\n",
              "25%              0.130000         0.520000  ...               0.000000     0.000000\n",
              "50%              0.410000         0.790000  ...               0.000000     0.000000\n",
              "75%              0.730000         0.900000  ...               0.000000     1.000000\n",
              "max              0.920000         1.000000  ...               1.000000     2.000000\n",
              "\n",
              "[8 rows x 9 columns]"
            ]
          },
          "metadata": {
            "tags": []
          },
          "execution_count": 119
        }
      ]
    },
    {
      "cell_type": "markdown",
      "metadata": {
        "id": "Xmm9T7-QLSTO"
      },
      "source": [
        "Среди уволившихся:\\\n",
        "Средняя степень удовлетворенности (satisfaction_level): 0,44\\\n",
        "Среднее количество проектов (number_project): 3,86\\\n",
        "Доля сотрудников с повышением за последние 5 лет (promotion_last_5years): 0,53% \n"
      ]
    },
    {
      "cell_type": "markdown",
      "metadata": {
        "id": "-bHB-v5TMvJf"
      },
      "source": [
        "Вывод: Среди уволившихся по сравнению с не уволившимися: удовлетворенность в целом ниже, количество проектов в среднем - больше, а повышений вообще менее процента. Это логично."
      ]
    },
    {
      "cell_type": "markdown",
      "metadata": {
        "id": "aDmalzjcgDVq"
      },
      "source": [
        "### 8. Разделим данные на тестовую и обучающую выборки. Построим модель LDA, предсказывающую уволился ли сотрудник на основе имеющихся факторов (кроме department и salary). Оценим качество модели на тестовой выборке"
      ]
    },
    {
      "cell_type": "code",
      "metadata": {
        "id": "A01rGPsMNCiI"
      },
      "source": [
        "# Подготовим таблицу для теста:\n",
        "data_for_test = data[['satisfaction_level', 'last_evaluation', 'number_project', 'average_montly_hours', 'time_spend_company', 'Work_accident', 'left', 'promotion_last_5years']]"
      ],
      "execution_count": 136,
      "outputs": []
    },
    {
      "cell_type": "code",
      "metadata": {
        "id": "7pkbVm5rLRQa"
      },
      "source": [
        "# Разделим данные на выборку для обучения и тестирования\n",
        "from sklearn.model_selection import train_test_split\n",
        "data_train, data_test = train_test_split(data_for_test, test_size=0.2)"
      ],
      "execution_count": 137,
      "outputs": []
    },
    {
      "cell_type": "code",
      "metadata": {
        "colab": {
          "base_uri": "https://localhost:8080/"
        },
        "id": "DOoILKvMLz_3",
        "outputId": "8f5687e9-2783-4846-ce40-61b656197656"
      },
      "source": [
        "len(data_train) # Значений в обучающей выборке"
      ],
      "execution_count": 138,
      "outputs": [
        {
          "output_type": "execute_result",
          "data": {
            "text/plain": [
              "11999"
            ]
          },
          "metadata": {
            "tags": []
          },
          "execution_count": 138
        }
      ]
    },
    {
      "cell_type": "code",
      "metadata": {
        "colab": {
          "base_uri": "https://localhost:8080/"
        },
        "id": "aCVWrCtjL3Dw",
        "outputId": "de3c7419-d221-4c57-ec07-c5b817597b31"
      },
      "source": [
        "len(data_test) # и в тестовой:"
      ],
      "execution_count": 139,
      "outputs": [
        {
          "output_type": "execute_result",
          "data": {
            "text/plain": [
              "3000"
            ]
          },
          "metadata": {
            "tags": []
          },
          "execution_count": 139
        }
      ]
    },
    {
      "cell_type": "code",
      "metadata": {
        "id": "SD0j7q_QL5O9"
      },
      "source": [
        "y_train, y_test = data_train['left'], data_test['left']\n",
        "del data_train['left']\n",
        "del data_test['left']"
      ],
      "execution_count": 140,
      "outputs": []
    },
    {
      "cell_type": "code",
      "metadata": {
        "id": "e9RO94t-L-3Q"
      },
      "source": [
        "# загрузим метод:\n",
        "from sklearn.discriminant_analysis import LinearDiscriminantAnalysis"
      ],
      "execution_count": 141,
      "outputs": []
    },
    {
      "cell_type": "code",
      "metadata": {
        "id": "yLIT6YKOMBTe"
      },
      "source": [
        "lda = LinearDiscriminantAnalysis()"
      ],
      "execution_count": 142,
      "outputs": []
    },
    {
      "cell_type": "code",
      "metadata": {
        "colab": {
          "base_uri": "https://localhost:8080/"
        },
        "id": "q5O1N93dMD0A",
        "outputId": "c04257d1-2653-4fca-e385-83bd5d4fe93b"
      },
      "source": [
        "# обучение модели на тренировочных данных\n",
        "\n",
        "lda.fit(data_train, y_train)"
      ],
      "execution_count": 143,
      "outputs": [
        {
          "output_type": "execute_result",
          "data": {
            "text/plain": [
              "LinearDiscriminantAnalysis(n_components=None, priors=None, shrinkage=None,\n",
              "                           solver='svd', store_covariance=False, tol=0.0001)"
            ]
          },
          "metadata": {
            "tags": []
          },
          "execution_count": 143
        }
      ]
    },
    {
      "cell_type": "code",
      "metadata": {
        "id": "wJ7amtdUMG-4"
      },
      "source": [
        "# импортируем метод подсчета точности предсказанных данных в сравнении с фактическими\n",
        "\n",
        "from sklearn.metrics import accuracy_score"
      ],
      "execution_count": 144,
      "outputs": []
    },
    {
      "cell_type": "code",
      "metadata": {
        "colab": {
          "base_uri": "https://localhost:8080/"
        },
        "id": "YmWOr1UAMKe2",
        "outputId": "781edf23-c6b1-4b75-bf40-bcdd5bbd14bb"
      },
      "source": [
        "# и оценим качество модели на тестовой выборке:\n",
        "accuracy_score(y_test, lda.predict(data_test))"
      ],
      "execution_count": 147,
      "outputs": [
        {
          "output_type": "execute_result",
          "data": {
            "text/plain": [
              "0.7566666666666667"
            ]
          },
          "metadata": {
            "tags": []
          },
          "execution_count": 147
        }
      ]
    },
    {
      "cell_type": "markdown",
      "metadata": {
        "id": "cl9CFGzYVTSI"
      },
      "source": [
        "\n",
        "Точность 76% - это соотношение верно предсказанных ответов к общему количеству ответов. Не очень большая точность."
      ]
    }
  ]
}