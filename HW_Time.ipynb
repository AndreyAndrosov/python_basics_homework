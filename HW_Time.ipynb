{
 "cells": [
  {
   "cell_type": "markdown",
   "metadata": {},
   "source": [
    "### Задание 1. Форматы дат."
   ]
  },
  {
   "cell_type": "code",
   "execution_count": 14,
   "metadata": {},
   "outputs": [],
   "source": [
    "from datetime import datetime as dt"
   ]
  },
  {
   "cell_type": "code",
   "execution_count": 15,
   "metadata": {},
   "outputs": [
    {
     "data": {
      "text/plain": [
       "datetime.datetime(2002, 10, 2, 0, 0)"
      ]
     },
     "execution_count": 15,
     "metadata": {},
     "output_type": "execute_result"
    }
   ],
   "source": [
    "dt.strptime('Wednesday, October 2, 2002', '%A, %B %d, %Y') # The Moscow Times - Wednesday, October 2, 2002"
   ]
  },
  {
   "cell_type": "code",
   "execution_count": 18,
   "metadata": {},
   "outputs": [
    {
     "data": {
      "text/plain": [
       "datetime.datetime(2013, 11, 10, 0, 0)"
      ]
     },
     "execution_count": 18,
     "metadata": {},
     "output_type": "execute_result"
    }
   ],
   "source": [
    "dt.strptime('Friday, 11.10.13', '%A, %m.%d.%y') # The Guardian - Friday, 11.10.13"
   ]
  },
  {
   "cell_type": "code",
   "execution_count": 20,
   "metadata": {},
   "outputs": [
    {
     "data": {
      "text/plain": [
       "datetime.datetime(1977, 8, 18, 0, 0)"
      ]
     },
     "execution_count": 20,
     "metadata": {},
     "output_type": "execute_result"
    }
   ],
   "source": [
    "dt.strptime('Thursday, 18 August 1977', '%A, %d %B %Y') # Daily News - Thursday, 18 August 1977"
   ]
  },
  {
   "cell_type": "markdown",
   "metadata": {},
   "source": [
    "### Задание 2. Проверка корректности ввода дат."
   ]
  },
  {
   "cell_type": "code",
   "execution_count": 22,
   "metadata": {},
   "outputs": [
    {
     "name": "stdout",
     "output_type": "stream",
     "text": [
      "True\n",
      "False\n",
      "False\n"
     ]
    }
   ],
   "source": [
    "stream = ['2018-04-02','2018-02-29','2018-19-02']\n",
    "\n",
    "for date in stream:\n",
    "  try:\n",
    "    valid_date = dt.strptime(date, '%Y-%m-%d')\n",
    "    print(True)    \n",
    "  except ValueError: \n",
    "    print(False)\n"
   ]
  },
  {
   "cell_type": "markdown",
   "metadata": {},
   "source": [
    "### Задание 3. Даты в интервале дат."
   ]
  },
  {
   "cell_type": "code",
   "execution_count": 24,
   "metadata": {},
   "outputs": [
    {
     "name": "stdout",
     "output_type": "stream",
     "text": [
      "Введите начальную дату в формате YYYY-MM-DD: 2020-10-10\n",
      "Введите дату окончания в формате YYYY-MM-DD: 2020-10-15\n"
     ]
    },
    {
     "data": {
      "text/plain": [
       "['2020-10-11',\n",
       " '2020-10-12',\n",
       " '2020-10-13',\n",
       " '2020-10-14',\n",
       " '2020-10-15',\n",
       " '2020-10-16']"
      ]
     },
     "execution_count": 24,
     "metadata": {},
     "output_type": "execute_result"
    }
   ],
   "source": [
    "#from datetime import datetime\n",
    "from datetime import timedelta\n",
    "\n",
    "start_date=input('Введите начальную дату в формате YYYY-MM-DD: ')\n",
    "end_date=input('Введите дату окончания в формате YYYY-MM-DD: ')\n",
    "\n",
    "format = '%Y-%m-%d'\n",
    "def date_range(start, end):\n",
    "    start_datetime=datetime.strptime(start,format)\n",
    "    end_datetime=datetime.strptime(end,format)\n",
    "    days=[]\n",
    "    if start_datetime<end_datetime:\n",
    "        inter_datetime=start_datetime # Если дата конца меньше даты начала присваиваем промежуточной дате значение начала.\n",
    "        while inter_datetime<=end_datetime:\n",
    "            inter_datetime=inter_datetime+timedelta(days=1)\n",
    "            print_datetime=datetime.strftime(inter_datetime,format)\n",
    "            days.append(print_datetime)\n",
    "   \n",
    "    return(days)\n",
    "\n",
    "date_range(start_date, end_date)"
   ]
  }
 ],
 "metadata": {
  "kernelspec": {
   "display_name": "Python 3",
   "language": "python",
   "name": "python3"
  },
  "language_info": {
   "codemirror_mode": {
    "name": "ipython",
    "version": 3
   },
   "file_extension": ".py",
   "mimetype": "text/x-python",
   "name": "python",
   "nbconvert_exporter": "python",
   "pygments_lexer": "ipython3",
   "version": "3.8.5"
  }
 },
 "nbformat": 4,
 "nbformat_minor": 4
}
