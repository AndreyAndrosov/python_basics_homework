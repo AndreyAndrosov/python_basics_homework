{
  "nbformat": 4,
  "nbformat_minor": 0,
  "metadata": {
    "colab": {
      "name": "HW_pandas_advanced.ipynb",
      "provenance": [],
      "collapsed_sections": [],
      "authorship_tag": "ABX9TyNZ070pnFIEIrer4YiYGUZW"
    },
    "kernelspec": {
      "name": "python3",
      "display_name": "Python 3"
    },
    "language_info": {
      "name": "python"
    }
  },
  "cells": [
    {
      "cell_type": "markdown",
      "metadata": {
        "id": "qbdkG4K8fvLv"
      },
      "source": [
        "Задание 1"
      ]
    },
    {
      "cell_type": "markdown",
      "metadata": {
        "id": "Dy6eh2Gffykw"
      },
      "source": [
        "Для датафрейма log из материалов занятия создайте столбец source_type по следующим правилам:\n",
        "\n",
        "если источник traffic_source равен yandex или google, то в source_type ставится organic\\\n",
        "для источников paid и email из России - ставим ad\\\n",
        "для источников paid и email не из России - ставим other\\\n",
        "все остальные варианты берем из traffic_source без изменений"
      ]
    },
    {
      "cell_type": "code",
      "metadata": {
        "id": "IrQdEsMMgTtr"
      },
      "source": [
        "import pandas as pd"
      ],
      "execution_count": 3,
      "outputs": []
    },
    {
      "cell_type": "code",
      "metadata": {
        "colab": {
          "base_uri": "https://localhost:8080/",
          "height": 80
        },
        "id": "J5cU7mopdqtC",
        "outputId": "279b6d9f-04c7-45b9-b996-c14aab8a2739"
      },
      "source": [
        "log = pd.read_csv('visit_log.csv', sep=';')\n",
        "log.head(1)"
      ],
      "execution_count": 13,
      "outputs": [
        {
          "output_type": "execute_result",
          "data": {
            "text/html": [
              "<div>\n",
              "<style scoped>\n",
              "    .dataframe tbody tr th:only-of-type {\n",
              "        vertical-align: middle;\n",
              "    }\n",
              "\n",
              "    .dataframe tbody tr th {\n",
              "        vertical-align: top;\n",
              "    }\n",
              "\n",
              "    .dataframe thead th {\n",
              "        text-align: right;\n",
              "    }\n",
              "</style>\n",
              "<table border=\"1\" class=\"dataframe\">\n",
              "  <thead>\n",
              "    <tr style=\"text-align: right;\">\n",
              "      <th></th>\n",
              "      <th>timestamp</th>\n",
              "      <th>visit_id</th>\n",
              "      <th>url</th>\n",
              "      <th>region</th>\n",
              "      <th>user_id</th>\n",
              "      <th>traffic_source</th>\n",
              "    </tr>\n",
              "  </thead>\n",
              "  <tbody>\n",
              "    <tr>\n",
              "      <th>0</th>\n",
              "      <td>1549980692</td>\n",
              "      <td>e3b0c44298</td>\n",
              "      <td>https://host.ru/3c19b4ef7371864fa3</td>\n",
              "      <td>Russia</td>\n",
              "      <td>b1613cc09f</td>\n",
              "      <td>yandex</td>\n",
              "    </tr>\n",
              "  </tbody>\n",
              "</table>\n",
              "</div>"
            ],
            "text/plain": [
              "    timestamp    visit_id  ...     user_id traffic_source\n",
              "0  1549980692  e3b0c44298  ...  b1613cc09f         yandex\n",
              "\n",
              "[1 rows x 6 columns]"
            ]
          },
          "metadata": {
            "tags": []
          },
          "execution_count": 13
        }
      ]
    },
    {
      "cell_type": "code",
      "metadata": {
        "colab": {
          "base_uri": "https://localhost:8080/",
          "height": 545
        },
        "id": "XVAsefdmjdRU",
        "outputId": "f71f71a4-a45b-4ac9-ae5d-68b48b329d7a"
      },
      "source": [
        "visit_log = pd.read_csv('visit_log.csv', sep=';')\n",
        "\n",
        "# Ввожу функцию, которая будет заполнять строки в source_type\n",
        "# в соответствии с условиями задачи\n",
        "def source_type(row):\n",
        "    \n",
        "    if row['traffic_source'] in ['yandex', 'google']:\n",
        "        return 'organic'\n",
        "\n",
        "    if row['traffic_source'] in ['paid', 'email']:\n",
        "        if row['region'] == 'Russia':\n",
        "            return 'ad'\n",
        "        else:\n",
        "            return 'other'\n",
        "\n",
        "    return row['traffic_source']\n",
        "\n",
        "visit_log['source_type'] = visit_log.apply(source_type, axis=1)\n",
        "\n",
        "visit_log.head(16)"
      ],
      "execution_count": 16,
      "outputs": [
        {
          "output_type": "execute_result",
          "data": {
            "text/html": [
              "<div>\n",
              "<style scoped>\n",
              "    .dataframe tbody tr th:only-of-type {\n",
              "        vertical-align: middle;\n",
              "    }\n",
              "\n",
              "    .dataframe tbody tr th {\n",
              "        vertical-align: top;\n",
              "    }\n",
              "\n",
              "    .dataframe thead th {\n",
              "        text-align: right;\n",
              "    }\n",
              "</style>\n",
              "<table border=\"1\" class=\"dataframe\">\n",
              "  <thead>\n",
              "    <tr style=\"text-align: right;\">\n",
              "      <th></th>\n",
              "      <th>timestamp</th>\n",
              "      <th>visit_id</th>\n",
              "      <th>url</th>\n",
              "      <th>region</th>\n",
              "      <th>user_id</th>\n",
              "      <th>traffic_source</th>\n",
              "      <th>source_type</th>\n",
              "    </tr>\n",
              "  </thead>\n",
              "  <tbody>\n",
              "    <tr>\n",
              "      <th>0</th>\n",
              "      <td>1549980692</td>\n",
              "      <td>e3b0c44298</td>\n",
              "      <td>https://host.ru/3c19b4ef7371864fa3</td>\n",
              "      <td>Russia</td>\n",
              "      <td>b1613cc09f</td>\n",
              "      <td>yandex</td>\n",
              "      <td>organic</td>\n",
              "    </tr>\n",
              "    <tr>\n",
              "      <th>1</th>\n",
              "      <td>1549980704</td>\n",
              "      <td>6e340b9cff</td>\n",
              "      <td>https://host.ru/c8d9213a31839f9a3a</td>\n",
              "      <td>Russia</td>\n",
              "      <td>4c3ec14bee</td>\n",
              "      <td>direct</td>\n",
              "      <td>direct</td>\n",
              "    </tr>\n",
              "    <tr>\n",
              "      <th>2</th>\n",
              "      <td>1549980715</td>\n",
              "      <td>96a296d224</td>\n",
              "      <td>https://host.ru/b8b58337d272ee7b15</td>\n",
              "      <td>Russia</td>\n",
              "      <td>a8c40697fb</td>\n",
              "      <td>yandex</td>\n",
              "      <td>organic</td>\n",
              "    </tr>\n",
              "    <tr>\n",
              "      <th>3</th>\n",
              "      <td>1549980725</td>\n",
              "      <td>709e80c884</td>\n",
              "      <td>https://host.ru/b8b58337d272ee7b15</td>\n",
              "      <td>Russia</td>\n",
              "      <td>521ac1d6a0</td>\n",
              "      <td>yandex</td>\n",
              "      <td>organic</td>\n",
              "    </tr>\n",
              "    <tr>\n",
              "      <th>4</th>\n",
              "      <td>1549980736</td>\n",
              "      <td>df3f619804</td>\n",
              "      <td>https://host.ru/b8b58337d272ee7b15</td>\n",
              "      <td>Russia</td>\n",
              "      <td>d7323c571c</td>\n",
              "      <td>yandex</td>\n",
              "      <td>organic</td>\n",
              "    </tr>\n",
              "    <tr>\n",
              "      <th>5</th>\n",
              "      <td>1549980742</td>\n",
              "      <td>8855508aad</td>\n",
              "      <td>https://host.ru/df646c3676cc259fa0</td>\n",
              "      <td>Russia</td>\n",
              "      <td>fc43898e47</td>\n",
              "      <td>yandex</td>\n",
              "      <td>organic</td>\n",
              "    </tr>\n",
              "    <tr>\n",
              "      <th>6</th>\n",
              "      <td>1549980742</td>\n",
              "      <td>b0f66adc83</td>\n",
              "      <td>https://host.ru/b8b58337d272ee7b15</td>\n",
              "      <td>Russia</td>\n",
              "      <td>13fc55e781</td>\n",
              "      <td>paid</td>\n",
              "      <td>ad</td>\n",
              "    </tr>\n",
              "    <tr>\n",
              "      <th>7</th>\n",
              "      <td>1549980754</td>\n",
              "      <td>837885c8f8</td>\n",
              "      <td>https://host.ru/108ce4b365afb7b88e</td>\n",
              "      <td>Russia</td>\n",
              "      <td>cb5082b6f6</td>\n",
              "      <td>direct</td>\n",
              "      <td>direct</td>\n",
              "    </tr>\n",
              "    <tr>\n",
              "      <th>8</th>\n",
              "      <td>1549980760</td>\n",
              "      <td>af5570f5a1</td>\n",
              "      <td>https://host.ru/3004a8273caeef2867</td>\n",
              "      <td>China</td>\n",
              "      <td>45664f7af2</td>\n",
              "      <td>direct</td>\n",
              "      <td>direct</td>\n",
              "    </tr>\n",
              "    <tr>\n",
              "      <th>9</th>\n",
              "      <td>1549980765</td>\n",
              "      <td>3e7077fd2f</td>\n",
              "      <td>https://host.ru/df646c3676cc259fa0</td>\n",
              "      <td>Russia</td>\n",
              "      <td>6f9de8c8b6</td>\n",
              "      <td>email</td>\n",
              "      <td>ad</td>\n",
              "    </tr>\n",
              "    <tr>\n",
              "      <th>10</th>\n",
              "      <td>1549980777</td>\n",
              "      <td>01d448afd9</td>\n",
              "      <td>https://host.ru/a5dda93e70318570c0</td>\n",
              "      <td>India</td>\n",
              "      <td>27e76a4a80</td>\n",
              "      <td>direct</td>\n",
              "      <td>direct</td>\n",
              "    </tr>\n",
              "    <tr>\n",
              "      <th>11</th>\n",
              "      <td>1549980785</td>\n",
              "      <td>71b6c1d538</td>\n",
              "      <td>https://host.ru/c8d9213a31839f9a3a</td>\n",
              "      <td>Ukraine</td>\n",
              "      <td>3b13701488</td>\n",
              "      <td>google</td>\n",
              "      <td>organic</td>\n",
              "    </tr>\n",
              "    <tr>\n",
              "      <th>12</th>\n",
              "      <td>1549980789</td>\n",
              "      <td>15ec7bf0b5</td>\n",
              "      <td>https://host.ru/8e88d4703848cc0ec4</td>\n",
              "      <td>Russia</td>\n",
              "      <td>6d1d81f7f8</td>\n",
              "      <td>paid</td>\n",
              "      <td>ad</td>\n",
              "    </tr>\n",
              "    <tr>\n",
              "      <th>13</th>\n",
              "      <td>1549980792</td>\n",
              "      <td>dd46c3eebb</td>\n",
              "      <td>https://host.ru/3004a8273caeef2867</td>\n",
              "      <td>China</td>\n",
              "      <td>7e301c8c41</td>\n",
              "      <td>direct</td>\n",
              "      <td>direct</td>\n",
              "    </tr>\n",
              "    <tr>\n",
              "      <th>14</th>\n",
              "      <td>1549980793</td>\n",
              "      <td>e7ecebbc59</td>\n",
              "      <td>https://host.ru/05e41944dd85a900a6</td>\n",
              "      <td>Belarus</td>\n",
              "      <td>ac52dedc3b</td>\n",
              "      <td>direct</td>\n",
              "      <td>direct</td>\n",
              "    </tr>\n",
              "    <tr>\n",
              "      <th>15</th>\n",
              "      <td>1549980797</td>\n",
              "      <td>5322fecfc9</td>\n",
              "      <td>https://host.ru/4adc8a29b212051b04</td>\n",
              "      <td>Belarus</td>\n",
              "      <td>9a45d98867</td>\n",
              "      <td>paid</td>\n",
              "      <td>other</td>\n",
              "    </tr>\n",
              "  </tbody>\n",
              "</table>\n",
              "</div>"
            ],
            "text/plain": [
              "     timestamp    visit_id  ... traffic_source source_type\n",
              "0   1549980692  e3b0c44298  ...         yandex     organic\n",
              "1   1549980704  6e340b9cff  ...         direct      direct\n",
              "2   1549980715  96a296d224  ...         yandex     organic\n",
              "3   1549980725  709e80c884  ...         yandex     organic\n",
              "4   1549980736  df3f619804  ...         yandex     organic\n",
              "5   1549980742  8855508aad  ...         yandex     organic\n",
              "6   1549980742  b0f66adc83  ...           paid          ad\n",
              "7   1549980754  837885c8f8  ...         direct      direct\n",
              "8   1549980760  af5570f5a1  ...         direct      direct\n",
              "9   1549980765  3e7077fd2f  ...          email          ad\n",
              "10  1549980777  01d448afd9  ...         direct      direct\n",
              "11  1549980785  71b6c1d538  ...         google     organic\n",
              "12  1549980789  15ec7bf0b5  ...           paid          ad\n",
              "13  1549980792  dd46c3eebb  ...         direct      direct\n",
              "14  1549980793  e7ecebbc59  ...         direct      direct\n",
              "15  1549980797  5322fecfc9  ...           paid       other\n",
              "\n",
              "[16 rows x 7 columns]"
            ]
          },
          "metadata": {
            "tags": []
          },
          "execution_count": 16
        }
      ]
    },
    {
      "cell_type": "markdown",
      "metadata": {
        "id": "KToBfvrjnEFE"
      },
      "source": [
        "\n",
        "Задание 2"
      ]
    },
    {
      "cell_type": "markdown",
      "metadata": {
        "id": "QRinaQprnPiE"
      },
      "source": [
        "В файле URLs.txt содержатся url страниц новостного сайта. Вам необходимо отфильтровать его по адресам страниц с текстами новостей. Известно, что шаблон страницы новостей имеет внутри url следующую конструкцию: /, затем 8 цифр, затем дефис. Выполните следующие действия:\n",
        "\n",
        "Прочитайте содержимое файла с датафрейм\\\n",
        "Отфильтруйте страницы с текстом новостей, используя метод str.contains и регулярное выражение в соответствии с заданным шаблоном"
      ]
    },
    {
      "cell_type": "code",
      "metadata": {
        "colab": {
          "base_uri": "https://localhost:8080/",
          "height": 204
        },
        "id": "xgHEpLoCnOkd",
        "outputId": "28141ce8-23db-4912-d59b-04ebaabf5921"
      },
      "source": [
        "urls = pd.read_csv('URLs.txt')\n",
        "\n",
        "news_urls = urls[urls.url.str.contains(r'/\\d{8}-')]\n",
        "news_urls.head()"
      ],
      "execution_count": 19,
      "outputs": [
        {
          "output_type": "execute_result",
          "data": {
            "text/html": [
              "<div>\n",
              "<style scoped>\n",
              "    .dataframe tbody tr th:only-of-type {\n",
              "        vertical-align: middle;\n",
              "    }\n",
              "\n",
              "    .dataframe tbody tr th {\n",
              "        vertical-align: top;\n",
              "    }\n",
              "\n",
              "    .dataframe thead th {\n",
              "        text-align: right;\n",
              "    }\n",
              "</style>\n",
              "<table border=\"1\" class=\"dataframe\">\n",
              "  <thead>\n",
              "    <tr style=\"text-align: right;\">\n",
              "      <th></th>\n",
              "      <th>url</th>\n",
              "    </tr>\n",
              "  </thead>\n",
              "  <tbody>\n",
              "    <tr>\n",
              "      <th>3</th>\n",
              "      <td>/politics/36188461-s-marta-zhizn-rossiyan-susc...</td>\n",
              "    </tr>\n",
              "    <tr>\n",
              "      <th>4</th>\n",
              "      <td>/world/36007585-tramp-pridumal-kak-reshit-ukra...</td>\n",
              "    </tr>\n",
              "    <tr>\n",
              "      <th>5</th>\n",
              "      <td>/science/36157853-nasa-sobiraet-ekstrennuyu-pr...</td>\n",
              "    </tr>\n",
              "    <tr>\n",
              "      <th>6</th>\n",
              "      <td>/video/36001498-poyavilis-pervye-podrobnosti-g...</td>\n",
              "    </tr>\n",
              "    <tr>\n",
              "      <th>7</th>\n",
              "      <td>/world/36007585-tramp-pridumal-kak-reshit-ukra...</td>\n",
              "    </tr>\n",
              "  </tbody>\n",
              "</table>\n",
              "</div>"
            ],
            "text/plain": [
              "                                                 url\n",
              "3  /politics/36188461-s-marta-zhizn-rossiyan-susc...\n",
              "4  /world/36007585-tramp-pridumal-kak-reshit-ukra...\n",
              "5  /science/36157853-nasa-sobiraet-ekstrennuyu-pr...\n",
              "6  /video/36001498-poyavilis-pervye-podrobnosti-g...\n",
              "7  /world/36007585-tramp-pridumal-kak-reshit-ukra..."
            ]
          },
          "metadata": {
            "tags": []
          },
          "execution_count": 19
        }
      ]
    },
    {
      "cell_type": "markdown",
      "metadata": {
        "id": "Iwk6kQfUoN0d"
      },
      "source": [
        "Задание 3"
      ]
    },
    {
      "cell_type": "markdown",
      "metadata": {
        "id": "tUpp0WYdoo3v"
      },
      "source": [
        "Используйте файл с оценками фильмов ml-latest-small/ratings.csv. Посчитайте среднее время жизни пользователей, которые выставили более 100 оценок. Под временем жизни понимается разница между максимальным и минимальным значением столбца timestamp для данного значения userId."
      ]
    },
    {
      "cell_type": "code",
      "metadata": {
        "colab": {
          "base_uri": "https://localhost:8080/"
        },
        "id": "jpAPv3WDomO4",
        "outputId": "4d6c6203-040d-4917-87d8-de4a52806b64"
      },
      "source": [
        "ratings = pd.read_csv('ratings.csv')\n",
        "\n",
        "def average_lifetime():   \n",
        "    ratings = pd.read_csv('ratings.csv')\n",
        "    lifetime = ratings.groupby('userId').\\\n",
        "        agg({'rating': 'count', 'timestamp': lambda timestamp: max(timestamp) - min(timestamp)}).\\\n",
        "        query('rating > 100')\n",
        "\n",
        "    lifetime['lifetime'] = pd.to_timedelta(lifetime['timestamp'], unit='s')\n",
        "\n",
        "    return lifetime.lifetime.mean()\n",
        "   \n",
        "average_lifetime()"
      ],
      "execution_count": 11,
      "outputs": [
        {
          "output_type": "execute_result",
          "data": {
            "text/plain": [
              "Timedelta('517 days 17:22:47.734693888')"
            ]
          },
          "metadata": {
            "tags": []
          },
          "execution_count": 11
        }
      ]
    },
    {
      "cell_type": "markdown",
      "metadata": {
        "id": "Vga-hg3NpVz2"
      },
      "source": [
        "Задание 4"
      ]
    },
    {
      "cell_type": "markdown",
      "metadata": {
        "id": "ZFA5T2WopXno"
      },
      "source": [
        "Дана статистика услуг перевозок клиентов компании по типам \n",
        "- rzd - железнодорожные перевозки\n",
        "- auto - автомобильные перевозки\n",
        "- air - воздушные перевозки\n",
        "- client_base - адреса клиентов\n",
        "Необходимо сформировать две таблицы:\n",
        "\n",
        "таблицу с тремя типами выручки для каждого client_id без указания адреса клиента\n",
        "\n",
        "аналогичную таблицу по типам выручки с указанием адреса клиента"
      ]
    },
    {
      "cell_type": "code",
      "metadata": {
        "id": "O9knwrwapW_Y"
      },
      "source": [
        " \n",
        "rzd = pd.DataFrame(\n",
        "    {\n",
        "        'client_id': [111, 112, 113, 114, 115],\n",
        "        'rzd_revenue': [1093, 2810, 10283, 5774, 981]\n",
        "    }\n",
        ")\n",
        "\n",
        "auto = pd.DataFrame(\n",
        "    {\n",
        "        'client_id': [113, 114, 115, 116, 117],\n",
        "        'auto_revenue': [57483, 83, 912, 4834, 98]\n",
        "    }\n",
        ")\n",
        "\n",
        "air = pd.DataFrame(\n",
        "    {\n",
        "        'client_id': [115, 116, 117, 118],\n",
        "        'air_revenue': [81, 4, 13, 173]\n",
        "    }\n",
        ")\n",
        "\n",
        "client_base = pd.DataFrame(\n",
        "    {\n",
        "        'client_id': [111, 112, 113, 114, 115, 116, 117, 118],\n",
        "        'address': ['Комсомольская 4', 'Энтузиастов 8а', 'Левобережная 1а', 'Мира 14', 'ЗЖБИиДК 1',\n",
        "                    'Строителей 18', 'Панфиловская 33', 'Мастеркова 4']\n",
        "    }\n",
        ")"
      ],
      "execution_count": 4,
      "outputs": []
    },
    {
      "cell_type": "code",
      "metadata": {
        "colab": {
          "base_uri": "https://localhost:8080/",
          "height": 314
        },
        "id": "Iy_Zi31NqLVc",
        "outputId": "d2b1c544-baf8-4922-9695-36f3f35f894a"
      },
      "source": [
        "joined = pd.merge(rzd, auto, how='outer', on='client_id')\n",
        "joined = pd.merge(joined, air, how='outer', on='client_id')\n",
        "joined.fillna(value=0, inplace=True)\n",
        "print('Таблица с тремя типами выручки для каждого client_id без указания адреса клиента:')\n",
        "joined.head(10)"
      ],
      "execution_count": 12,
      "outputs": [
        {
          "output_type": "stream",
          "text": [
            "Таблица с тремя типами выручки для каждого client_id без указания адреса клиента:\n"
          ],
          "name": "stdout"
        },
        {
          "output_type": "execute_result",
          "data": {
            "text/html": [
              "<div>\n",
              "<style scoped>\n",
              "    .dataframe tbody tr th:only-of-type {\n",
              "        vertical-align: middle;\n",
              "    }\n",
              "\n",
              "    .dataframe tbody tr th {\n",
              "        vertical-align: top;\n",
              "    }\n",
              "\n",
              "    .dataframe thead th {\n",
              "        text-align: right;\n",
              "    }\n",
              "</style>\n",
              "<table border=\"1\" class=\"dataframe\">\n",
              "  <thead>\n",
              "    <tr style=\"text-align: right;\">\n",
              "      <th></th>\n",
              "      <th>client_id</th>\n",
              "      <th>rzd_revenue</th>\n",
              "      <th>auto_revenue</th>\n",
              "      <th>air_revenue</th>\n",
              "    </tr>\n",
              "  </thead>\n",
              "  <tbody>\n",
              "    <tr>\n",
              "      <th>0</th>\n",
              "      <td>111</td>\n",
              "      <td>1093.0</td>\n",
              "      <td>0.0</td>\n",
              "      <td>0.0</td>\n",
              "    </tr>\n",
              "    <tr>\n",
              "      <th>1</th>\n",
              "      <td>112</td>\n",
              "      <td>2810.0</td>\n",
              "      <td>0.0</td>\n",
              "      <td>0.0</td>\n",
              "    </tr>\n",
              "    <tr>\n",
              "      <th>2</th>\n",
              "      <td>113</td>\n",
              "      <td>10283.0</td>\n",
              "      <td>57483.0</td>\n",
              "      <td>0.0</td>\n",
              "    </tr>\n",
              "    <tr>\n",
              "      <th>3</th>\n",
              "      <td>114</td>\n",
              "      <td>5774.0</td>\n",
              "      <td>83.0</td>\n",
              "      <td>0.0</td>\n",
              "    </tr>\n",
              "    <tr>\n",
              "      <th>4</th>\n",
              "      <td>115</td>\n",
              "      <td>981.0</td>\n",
              "      <td>912.0</td>\n",
              "      <td>81.0</td>\n",
              "    </tr>\n",
              "    <tr>\n",
              "      <th>5</th>\n",
              "      <td>116</td>\n",
              "      <td>0.0</td>\n",
              "      <td>4834.0</td>\n",
              "      <td>4.0</td>\n",
              "    </tr>\n",
              "    <tr>\n",
              "      <th>6</th>\n",
              "      <td>117</td>\n",
              "      <td>0.0</td>\n",
              "      <td>98.0</td>\n",
              "      <td>13.0</td>\n",
              "    </tr>\n",
              "    <tr>\n",
              "      <th>7</th>\n",
              "      <td>118</td>\n",
              "      <td>0.0</td>\n",
              "      <td>0.0</td>\n",
              "      <td>173.0</td>\n",
              "    </tr>\n",
              "  </tbody>\n",
              "</table>\n",
              "</div>"
            ],
            "text/plain": [
              "   client_id  rzd_revenue  auto_revenue  air_revenue\n",
              "0        111       1093.0           0.0          0.0\n",
              "1        112       2810.0           0.0          0.0\n",
              "2        113      10283.0       57483.0          0.0\n",
              "3        114       5774.0          83.0          0.0\n",
              "4        115        981.0         912.0         81.0\n",
              "5        116          0.0        4834.0          4.0\n",
              "6        117          0.0          98.0         13.0\n",
              "7        118          0.0           0.0        173.0"
            ]
          },
          "metadata": {
            "tags": []
          },
          "execution_count": 12
        }
      ]
    },
    {
      "cell_type": "code",
      "metadata": {
        "colab": {
          "base_uri": "https://localhost:8080/",
          "height": 314
        },
        "id": "0yT32rz1qVz3",
        "outputId": "e6a34dd6-2cc8-4827-d399-cba0c26b3a27"
      },
      "source": [
        "joined_adress = joined.merge(client_base, on='client_id')\n",
        "joined_adress['total_revenue'] = joined_adress.apply(lambda row: sum([value for value in row.values if type(value) == float]), axis=1)\n",
        "print('Таблица с тремя типами выручки для каждого client_id c указанием адреса клиента:')\n",
        "joined_adress[['client_id', 'address', 'rzd_revenue', 'auto_revenue', 'air_revenue', 'total_revenue']]"
      ],
      "execution_count": 7,
      "outputs": [
        {
          "output_type": "stream",
          "text": [
            "Таблица с тремя типами выручки для каждого client_id c указанием адреса клиента:\n"
          ],
          "name": "stdout"
        },
        {
          "output_type": "execute_result",
          "data": {
            "text/html": [
              "<div>\n",
              "<style scoped>\n",
              "    .dataframe tbody tr th:only-of-type {\n",
              "        vertical-align: middle;\n",
              "    }\n",
              "\n",
              "    .dataframe tbody tr th {\n",
              "        vertical-align: top;\n",
              "    }\n",
              "\n",
              "    .dataframe thead th {\n",
              "        text-align: right;\n",
              "    }\n",
              "</style>\n",
              "<table border=\"1\" class=\"dataframe\">\n",
              "  <thead>\n",
              "    <tr style=\"text-align: right;\">\n",
              "      <th></th>\n",
              "      <th>client_id</th>\n",
              "      <th>address</th>\n",
              "      <th>rzd_revenue</th>\n",
              "      <th>auto_revenue</th>\n",
              "      <th>air_revenue</th>\n",
              "      <th>total_revenue</th>\n",
              "    </tr>\n",
              "  </thead>\n",
              "  <tbody>\n",
              "    <tr>\n",
              "      <th>0</th>\n",
              "      <td>111</td>\n",
              "      <td>Комсомольская 4</td>\n",
              "      <td>1093.0</td>\n",
              "      <td>0.0</td>\n",
              "      <td>0.0</td>\n",
              "      <td>1093.0</td>\n",
              "    </tr>\n",
              "    <tr>\n",
              "      <th>1</th>\n",
              "      <td>112</td>\n",
              "      <td>Энтузиастов 8а</td>\n",
              "      <td>2810.0</td>\n",
              "      <td>0.0</td>\n",
              "      <td>0.0</td>\n",
              "      <td>2810.0</td>\n",
              "    </tr>\n",
              "    <tr>\n",
              "      <th>2</th>\n",
              "      <td>113</td>\n",
              "      <td>Левобережная 1а</td>\n",
              "      <td>10283.0</td>\n",
              "      <td>57483.0</td>\n",
              "      <td>0.0</td>\n",
              "      <td>67766.0</td>\n",
              "    </tr>\n",
              "    <tr>\n",
              "      <th>3</th>\n",
              "      <td>114</td>\n",
              "      <td>Мира 14</td>\n",
              "      <td>5774.0</td>\n",
              "      <td>83.0</td>\n",
              "      <td>0.0</td>\n",
              "      <td>5857.0</td>\n",
              "    </tr>\n",
              "    <tr>\n",
              "      <th>4</th>\n",
              "      <td>115</td>\n",
              "      <td>ЗЖБИиДК 1</td>\n",
              "      <td>981.0</td>\n",
              "      <td>912.0</td>\n",
              "      <td>81.0</td>\n",
              "      <td>1974.0</td>\n",
              "    </tr>\n",
              "    <tr>\n",
              "      <th>5</th>\n",
              "      <td>116</td>\n",
              "      <td>Строителей 18</td>\n",
              "      <td>0.0</td>\n",
              "      <td>4834.0</td>\n",
              "      <td>4.0</td>\n",
              "      <td>4838.0</td>\n",
              "    </tr>\n",
              "    <tr>\n",
              "      <th>6</th>\n",
              "      <td>117</td>\n",
              "      <td>Панфиловская 33</td>\n",
              "      <td>0.0</td>\n",
              "      <td>98.0</td>\n",
              "      <td>13.0</td>\n",
              "      <td>111.0</td>\n",
              "    </tr>\n",
              "    <tr>\n",
              "      <th>7</th>\n",
              "      <td>118</td>\n",
              "      <td>Мастеркова 4</td>\n",
              "      <td>0.0</td>\n",
              "      <td>0.0</td>\n",
              "      <td>173.0</td>\n",
              "      <td>173.0</td>\n",
              "    </tr>\n",
              "  </tbody>\n",
              "</table>\n",
              "</div>"
            ],
            "text/plain": [
              "   client_id          address  ...  air_revenue  total_revenue\n",
              "0        111  Комсомольская 4  ...          0.0         1093.0\n",
              "1        112   Энтузиастов 8а  ...          0.0         2810.0\n",
              "2        113  Левобережная 1а  ...          0.0        67766.0\n",
              "3        114          Мира 14  ...          0.0         5857.0\n",
              "4        115        ЗЖБИиДК 1  ...         81.0         1974.0\n",
              "5        116    Строителей 18  ...          4.0         4838.0\n",
              "6        117  Панфиловская 33  ...         13.0          111.0\n",
              "7        118     Мастеркова 4  ...        173.0          173.0\n",
              "\n",
              "[8 rows x 6 columns]"
            ]
          },
          "metadata": {
            "tags": []
          },
          "execution_count": 7
        }
      ]
    }
  ]
}