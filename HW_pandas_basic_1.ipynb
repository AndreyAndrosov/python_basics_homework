{
  "nbformat": 4,
  "nbformat_minor": 5,
  "metadata": {
    "kernelspec": {
      "display_name": "Python 3",
      "language": "python",
      "name": "python3"
    },
    "language_info": {
      "codemirror_mode": {
        "name": "ipython",
        "version": 3
      },
      "file_extension": ".py",
      "mimetype": "text/x-python",
      "name": "python",
      "nbconvert_exporter": "python",
      "pygments_lexer": "ipython3",
      "version": "3.8.8"
    },
    "colab": {
      "name": "HW_pandas_basic_1.ipynb",
      "provenance": [],
      "collapsed_sections": []
    }
  },
  "cells": [
    {
      "cell_type": "markdown",
      "metadata": {
        "id": "a2898e42"
      },
      "source": [
        "Задание 1"
      ],
      "id": "a2898e42"
    },
    {
      "cell_type": "raw",
      "metadata": {
        "id": "c6dbf138"
      },
      "source": [
        "Скачайте с сайта https://grouplens.org/datasets/movielens/ датасет любого размера. Определите какому фильму было выставлено больше всего оценок 5.0."
      ],
      "id": "c6dbf138"
    },
    {
      "cell_type": "code",
      "metadata": {
        "colab": {
          "base_uri": "https://localhost:8080/",
          "height": 97
        },
        "id": "5d384a1c",
        "outputId": "9c8737b5-3341-49fc-e0a0-9c1a044a55c2"
      },
      "source": [
        "import pandas as pd\n",
        "\n",
        "ratings = pd.read_csv('ratings.csv')        \n",
        "movies = pd.read_csv('movies.csv')\n",
        "\n",
        "best_movies = ratings[ ratings.rating == 5.0 ].groupby('movieId').count().sort_values('rating', ascending=False)\n",
        "best_movie = best_movies.filter(items = ['movieId', 'rating'])\n",
        "best_movie = best_movies.rename(columns={'rating': 'Num_of_5*'}, inplace=True)\n",
        "\n",
        "print('Фильм с наибольшим количеством оценок 5.0')\n",
        "joined.filter(items = ['movieId', 'title','Num_of_5*']).head(1)"
      ],
      "id": "5d384a1c",
      "execution_count": 3,
      "outputs": [
        {
          "output_type": "stream",
          "text": [
            "Фильм с наибольшим количеством оценок 5.0\n"
          ],
          "name": "stdout"
        },
        {
          "output_type": "execute_result",
          "data": {
            "text/html": [
              "<div>\n",
              "<style scoped>\n",
              "    .dataframe tbody tr th:only-of-type {\n",
              "        vertical-align: middle;\n",
              "    }\n",
              "\n",
              "    .dataframe tbody tr th {\n",
              "        vertical-align: top;\n",
              "    }\n",
              "\n",
              "    .dataframe thead th {\n",
              "        text-align: right;\n",
              "    }\n",
              "</style>\n",
              "<table border=\"1\" class=\"dataframe\">\n",
              "  <thead>\n",
              "    <tr style=\"text-align: right;\">\n",
              "      <th></th>\n",
              "      <th>movieId</th>\n",
              "      <th>title</th>\n",
              "      <th>Num_of_5*</th>\n",
              "    </tr>\n",
              "  </thead>\n",
              "  <tbody>\n",
              "    <tr>\n",
              "      <th>0</th>\n",
              "      <td>318</td>\n",
              "      <td>Shawshank Redemption, The (1994)</td>\n",
              "      <td>153</td>\n",
              "    </tr>\n",
              "  </tbody>\n",
              "</table>\n",
              "</div>"
            ],
            "text/plain": [
              "   movieId                             title  Num_of_5*\n",
              "0      318  Shawshank Redemption, The (1994)        153"
            ]
          },
          "metadata": {
            "tags": []
          },
          "execution_count": 3
        }
      ]
    },
    {
      "cell_type": "markdown",
      "metadata": {
        "id": "IgmHhiBnQ5fq"
      },
      "source": [
        "Задание 2"
      ],
      "id": "IgmHhiBnQ5fq"
    },
    {
      "cell_type": "markdown",
      "metadata": {
        "id": "XeCuaHAfvgOW"
      },
      "source": [
        "По данным файла power.csv посчитайте суммарное потребление стран Прибалтики (Латвия, Литва и Эстония) категорий 4, 12 и 21 за период с 2005 по 2010 года. Не учитывайте в расчетах отрицательные значения quantity."
      ],
      "id": "XeCuaHAfvgOW"
    },
    {
      "cell_type": "code",
      "metadata": {
        "id": "ky6j_YNZvi4o"
      },
      "source": [
        "power = pd.read_csv('power.csv')\n",
        "\n"
      ],
      "id": "ky6j_YNZvi4o",
      "execution_count": 5,
      "outputs": []
    },
    {
      "cell_type": "code",
      "metadata": {
        "colab": {
          "base_uri": "https://localhost:8080/",
          "height": 220
        },
        "id": "m5ye3o-FvmoY",
        "outputId": "bf50878b-c96c-40d0-cf4e-04823f6e77fd"
      },
      "source": [
        "baltic_countries = power[ (power['country']=='Estonia') | (power['country']=='Latvia') | (power['country']=='Lithuania') ]\n",
        "category_filter = baltic_countries[ (baltic_countries['category']==4) | (baltic_countries['category']==12) | (baltic_countries['category']==21)]\n",
        "year_filter = category_filter[ (category_filter['year'] >= 2005) & (category_filter['year'] <= 2010)]\n",
        "quantity_filter = year_filter[ (year_filter['quantity']) >= 0 ]\n",
        "total_quantity = quantity_filter['quantity'].sum()\n",
        "\n",
        "print('Суммарное потребление:', total_quantity)\n",
        "\n",
        "quantity_filter.sort_values('quantity', ascending=True).head()"
      ],
      "id": "m5ye3o-FvmoY",
      "execution_count": 7,
      "outputs": [
        {
          "output_type": "stream",
          "text": [
            "Суммарное потребление: 240580.0\n"
          ],
          "name": "stdout"
        },
        {
          "output_type": "execute_result",
          "data": {
            "text/html": [
              "<div>\n",
              "<style scoped>\n",
              "    .dataframe tbody tr th:only-of-type {\n",
              "        vertical-align: middle;\n",
              "    }\n",
              "\n",
              "    .dataframe tbody tr th {\n",
              "        vertical-align: top;\n",
              "    }\n",
              "\n",
              "    .dataframe thead th {\n",
              "        text-align: right;\n",
              "    }\n",
              "</style>\n",
              "<table border=\"1\" class=\"dataframe\">\n",
              "  <thead>\n",
              "    <tr style=\"text-align: right;\">\n",
              "      <th></th>\n",
              "      <th>country</th>\n",
              "      <th>year</th>\n",
              "      <th>quantity</th>\n",
              "      <th>category</th>\n",
              "    </tr>\n",
              "  </thead>\n",
              "  <tbody>\n",
              "    <tr>\n",
              "      <th>218600</th>\n",
              "      <td>Lithuania</td>\n",
              "      <td>2010</td>\n",
              "      <td>0.0</td>\n",
              "      <td>21.0</td>\n",
              "    </tr>\n",
              "    <tr>\n",
              "      <th>218602</th>\n",
              "      <td>Lithuania</td>\n",
              "      <td>2008</td>\n",
              "      <td>0.0</td>\n",
              "      <td>21.0</td>\n",
              "    </tr>\n",
              "    <tr>\n",
              "      <th>19855</th>\n",
              "      <td>Estonia</td>\n",
              "      <td>2007</td>\n",
              "      <td>0.0</td>\n",
              "      <td>4.0</td>\n",
              "    </tr>\n",
              "    <tr>\n",
              "      <th>218601</th>\n",
              "      <td>Lithuania</td>\n",
              "      <td>2009</td>\n",
              "      <td>0.0</td>\n",
              "      <td>21.0</td>\n",
              "    </tr>\n",
              "    <tr>\n",
              "      <th>204643</th>\n",
              "      <td>Latvia</td>\n",
              "      <td>2009</td>\n",
              "      <td>0.0</td>\n",
              "      <td>21.0</td>\n",
              "    </tr>\n",
              "  </tbody>\n",
              "</table>\n",
              "</div>"
            ],
            "text/plain": [
              "          country  year  quantity  category\n",
              "218600  Lithuania  2010       0.0      21.0\n",
              "218602  Lithuania  2008       0.0      21.0\n",
              "19855     Estonia  2007       0.0       4.0\n",
              "218601  Lithuania  2009       0.0      21.0\n",
              "204643     Latvia  2009       0.0      21.0"
            ]
          },
          "metadata": {
            "tags": []
          },
          "execution_count": 7
        }
      ]
    },
    {
      "cell_type": "markdown",
      "metadata": {
        "id": "WdjNPYyfV_1j"
      },
      "source": [
        "Задание 3"
      ],
      "id": "WdjNPYyfV_1j"
    },
    {
      "cell_type": "markdown",
      "metadata": {
        "id": "zzZsU-3-WGL9"
      },
      "source": [
        "Выберите страницу любого сайта с табличными данными. Импортируйте таблицы в pandas dataframe. Примеры страниц (необязательно брать именно эти): \n",
        "- https://fortrader.org/quotes \n",
        "- https://www.finanz.ru/valyuty/v-realnom-vremeni\n",
        "\n"
      ],
      "id": "zzZsU-3-WGL9"
    },
    {
      "cell_type": "code",
      "metadata": {
        "colab": {
          "base_uri": "https://localhost:8080/",
          "height": 172
        },
        "id": "_eq9nNoXvxyf",
        "outputId": "ed3e2657-aa60-46f7-8cd0-75e0e4ee717c"
      },
      "source": [
        "frame = pd.read_html('https://fortrader.org/quotes')[1]\n",
        "\n",
        "frame.head(4)"
      ],
      "id": "_eq9nNoXvxyf",
      "execution_count": 8,
      "outputs": [
        {
          "output_type": "execute_result",
          "data": {
            "text/html": [
              "<div>\n",
              "<style scoped>\n",
              "    .dataframe tbody tr th:only-of-type {\n",
              "        vertical-align: middle;\n",
              "    }\n",
              "\n",
              "    .dataframe tbody tr th {\n",
              "        vertical-align: top;\n",
              "    }\n",
              "\n",
              "    .dataframe thead th {\n",
              "        text-align: right;\n",
              "    }\n",
              "</style>\n",
              "<table border=\"1\" class=\"dataframe\">\n",
              "  <thead>\n",
              "    <tr style=\"text-align: right;\">\n",
              "      <th></th>\n",
              "      <th>Название</th>\n",
              "      <th>Цена</th>\n",
              "      <th>Изменение</th>\n",
              "      <th>Изменение(%)</th>\n",
              "      <th>Обновлено</th>\n",
              "    </tr>\n",
              "  </thead>\n",
              "  <tbody>\n",
              "    <tr>\n",
              "      <th>0</th>\n",
              "      <td>Нефть Brent Курс нефти сегодня</td>\n",
              "      <td>71.73</td>\n",
              "      <td>-0.22</td>\n",
              "      <td>-0.31</td>\n",
              "      <td>NaN</td>\n",
              "    </tr>\n",
              "    <tr>\n",
              "      <th>1</th>\n",
              "      <td>Нефть WTI Цены на нефть WTI</td>\n",
              "      <td>69.49</td>\n",
              "      <td>-0.23</td>\n",
              "      <td>-0.33</td>\n",
              "      <td>NaN</td>\n",
              "    </tr>\n",
              "    <tr>\n",
              "      <th>2</th>\n",
              "      <td>Природный газ Цена на природный газ</td>\n",
              "      <td>3.08</td>\n",
              "      <td>-0.03</td>\n",
              "      <td>-0.96</td>\n",
              "      <td>NaN</td>\n",
              "    </tr>\n",
              "    <tr>\n",
              "      <th>3</th>\n",
              "      <td>Кофе</td>\n",
              "      <td>159.65</td>\n",
              "      <td>-1.90</td>\n",
              "      <td>-1.18</td>\n",
              "      <td>NaN</td>\n",
              "    </tr>\n",
              "  </tbody>\n",
              "</table>\n",
              "</div>"
            ],
            "text/plain": [
              "                              Название    Цена  ...  Изменение(%)  Обновлено\n",
              "0       Нефть Brent Курс нефти сегодня   71.73  ...         -0.31        NaN\n",
              "1          Нефть WTI Цены на нефть WTI   69.49  ...         -0.33        NaN\n",
              "2  Природный газ Цена на природный газ    3.08  ...         -0.96        NaN\n",
              "3                                 Кофе  159.65  ...         -1.18        NaN\n",
              "\n",
              "[4 rows x 5 columns]"
            ]
          },
          "metadata": {
            "tags": []
          },
          "execution_count": 8
        }
      ]
    },
    {
      "cell_type": "code",
      "metadata": {
        "colab": {
          "base_uri": "https://localhost:8080/",
          "height": 234
        },
        "id": "076014b4",
        "outputId": "cd5773a0-e34e-4d39-b7f5-dbb211beca5d"
      },
      "source": [
        "pd.read_html('https://fortrader.org/quotes')[5].head(7)"
      ],
      "id": "076014b4",
      "execution_count": 9,
      "outputs": [
        {
          "output_type": "execute_result",
          "data": {
            "text/html": [
              "<div>\n",
              "<style scoped>\n",
              "    .dataframe tbody tr th:only-of-type {\n",
              "        vertical-align: middle;\n",
              "    }\n",
              "\n",
              "    .dataframe tbody tr th {\n",
              "        vertical-align: top;\n",
              "    }\n",
              "\n",
              "    .dataframe thead th {\n",
              "        text-align: right;\n",
              "    }\n",
              "</style>\n",
              "<table border=\"1\" class=\"dataframe\">\n",
              "  <thead>\n",
              "    <tr style=\"text-align: right;\">\n",
              "      <th></th>\n",
              "      <th>Название</th>\n",
              "      <th>Цена</th>\n",
              "      <th>Изменение</th>\n",
              "      <th>Изменение(%)</th>\n",
              "      <th>Обновлено</th>\n",
              "    </tr>\n",
              "  </thead>\n",
              "  <tbody>\n",
              "    <tr>\n",
              "      <th>0</th>\n",
              "      <td>FXIT</td>\n",
              "      <td>10 215.0</td>\n",
              "      <td>-19.0</td>\n",
              "      <td>-0.2</td>\n",
              "      <td>NaN</td>\n",
              "    </tr>\n",
              "    <tr>\n",
              "      <th>1</th>\n",
              "      <td>FXRU</td>\n",
              "      <td>942.1</td>\n",
              "      <td>+0.3</td>\n",
              "      <td>+0.0</td>\n",
              "      <td>NaN</td>\n",
              "    </tr>\n",
              "    <tr>\n",
              "      <th>2</th>\n",
              "      <td>FXDE</td>\n",
              "      <td>3 165.0</td>\n",
              "      <td>нет данных</td>\n",
              "      <td>нет данных</td>\n",
              "      <td>NaN</td>\n",
              "    </tr>\n",
              "    <tr>\n",
              "      <th>3</th>\n",
              "      <td>FXCN</td>\n",
              "      <td>3 820.0</td>\n",
              "      <td>-78.5</td>\n",
              "      <td>-2.0</td>\n",
              "      <td>NaN</td>\n",
              "    </tr>\n",
              "    <tr>\n",
              "      <th>4</th>\n",
              "      <td>FXGD</td>\n",
              "      <td>929.00</td>\n",
              "      <td>+0.60</td>\n",
              "      <td>+0.06</td>\n",
              "      <td>NaN</td>\n",
              "    </tr>\n",
              "    <tr>\n",
              "      <th>5</th>\n",
              "      <td>FXWO</td>\n",
              "      <td>1.8188</td>\n",
              "      <td>-0.0012</td>\n",
              "      <td>-0.0659</td>\n",
              "      <td>NaN</td>\n",
              "    </tr>\n",
              "  </tbody>\n",
              "</table>\n",
              "</div>"
            ],
            "text/plain": [
              "  Название      Цена   Изменение Изменение(%)  Обновлено\n",
              "0     FXIT  10 215.0       -19.0         -0.2        NaN\n",
              "1     FXRU     942.1        +0.3         +0.0        NaN\n",
              "2     FXDE   3 165.0  нет данных   нет данных        NaN\n",
              "3     FXCN   3 820.0       -78.5         -2.0        NaN\n",
              "4     FXGD    929.00       +0.60        +0.06        NaN\n",
              "5     FXWO    1.8188     -0.0012      -0.0659        NaN"
            ]
          },
          "metadata": {
            "tags": []
          },
          "execution_count": 9
        }
      ]
    }
  ]
}