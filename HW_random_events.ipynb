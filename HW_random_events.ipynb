{
  "nbformat": 4,
  "nbformat_minor": 0,
  "metadata": {
    "colab": {
      "name": "HW_random_events.ipynb",
      "provenance": [],
      "authorship_tag": "ABX9TyNP31a59VQ0YiFSwvN1cgce"
    },
    "kernelspec": {
      "name": "python3",
      "display_name": "Python 3"
    },
    "language_info": {
      "name": "python"
    }
  },
  "cells": [
    {
      "cell_type": "markdown",
      "metadata": {
        "id": "6Eq-DdzpMczt"
      },
      "source": [
        "Задание\n",
        "\n",
        "Смоделировать игру против лотерейного автомата типа “777”. Игрок платит 1 руб., после чего выпадает случайное целое число, равномерно распределенное от 0 до 999. При некоторых значениях числа игрок получает выигрыш (см. справа)\n",
        "\n",
        "Выгодна ли игра игроку?\n",
        "\n",
        "Сколько в среднем приобретает или теряет игрок за одну игру?\n",
        "\n",
        "777: 200 руб.\\\n",
        "999: 100 руб.\\\n",
        "555: 50 руб.\\\n",
        "333: 15 руб.\\\n",
        "111: 10 руб.\\\n",
        "*77: 5 руб.\\\n",
        "**7: 3 руб.\\\n",
        "*00: 2 руб.\\\n",
        "**0: 1 руб.\n",
        "\n",
        "* – любая цифра"
      ]
    },
    {
      "cell_type": "markdown",
      "metadata": {
        "id": "KxnroqMZMpdH"
      },
      "source": [
        "### Решение"
      ]
    },
    {
      "cell_type": "markdown",
      "metadata": {
        "id": "_kRZrEnqMnkx"
      },
      "source": [
        "M - удачные исходы\n",
        "\n",
        "N - общее кол-во исходов 1000, N = 10000\n",
        "\n",
        "А - событие\n",
        "\n",
        "Р(А) - вероятность события\n",
        "\n",
        "$777 M= 1$\\\n",
        "$999 M = 1$\\\n",
        "$555 M = 1$\\\n",
        "$333 M = 1$\\\n",
        "$111 M = 1$\\\n",
        "$*77$ $M = 10 - 1(777) = 9$  - все возможные варианты благоприятного события минус одно событие, которое учтено уже выше\\\n",
        "$**7$ $M = 100 -1(777) - 9(*77) = 90$\\\n",
        "$*00$ $M = 10$\\\n",
        "$**0$ $M = 100 - 10 (**0) = 90$"
      ]
    },
    {
      "cell_type": "code",
      "metadata": {
        "id": "je6kKSn2OM5X"
      },
      "source": [
        "import numpy as np\n",
        "import re"
      ],
      "execution_count": 4,
      "outputs": []
    },
    {
      "cell_type": "code",
      "metadata": {
        "colab": {
          "base_uri": "https://localhost:8080/"
        },
        "id": "RhmJEgolMPXw",
        "outputId": "daf86dcb-4140-4ec4-bb6c-d2bb91290938"
      },
      "source": [
        "# теоритический расчет выигрыша \n",
        "\n",
        "M = [1,1,1,1,1,9,90,10,90]\n",
        "N = 10000\n",
        "Rub = [200,100,50,15,10,5,3,2,1]\n",
        "P_list = [] \n",
        "mean_gain = 0\n",
        "for element in M:\n",
        "    P = element/N\n",
        "    P_list.append(P)\n",
        "\n",
        "for i in range(9):\n",
        "    P_rub = P_list[i]*Rub[i]\n",
        "    mean_gain += P_rub\n",
        "print(mean_gain)"
      ],
      "execution_count": 5,
      "outputs": [
        {
          "output_type": "stream",
          "text": [
            "0.07999999999999999\n"
          ],
          "name": "stdout"
        }
      ]
    },
    {
      "cell_type": "markdown",
      "metadata": {
        "id": "RP2Err8wN7Gc"
      },
      "source": [
        "Средний выигрыш составляет 80 копеек. При стоимости каждой игры в 1 рубль, получается, что игрок каждую игру теряет 20 копеек."
      ]
    },
    {
      "cell_type": "code",
      "metadata": {
        "colab": {
          "base_uri": "https://localhost:8080/"
        },
        "id": "3aRZG38QNm6V",
        "outputId": "e23a9802-6b96-4e87-af43-f46ced6fa2f2"
      },
      "source": [
        "# Смоделируем\n",
        "\n",
        "trials = 10000    # Количество попыток\n",
        "money = 0          # Количество денег\n",
        "\n",
        "for i in range(trials):\n",
        "    random_score = np.random.randint(0, 1000)    \n",
        "    if random_score == 777:\n",
        "        money += 200\n",
        "    elif random_score == 999:\n",
        "        money += 100\n",
        "    elif random_score == 555:\n",
        "        money += 50\n",
        "    elif random_score == 333:\n",
        "        money += 15\n",
        "    elif random_score == 111:\n",
        "        money += 10\n",
        "    elif re.findall(r'[0-6,8,9]77', str(random_score)):\n",
        "        money += 5\n",
        "    elif re.findall(r'\\d[0-6,8,9]7', str(random_score)):\n",
        "        money += 3\n",
        "    elif re.findall(r'[0-9]00', str(random_score)):\n",
        "        money += 2\n",
        "    elif re.findall(r'\\d[1-9]0', str(random_score)):\n",
        "        money += 1\n",
        "    else:\n",
        "        money += 0\n",
        "        \n",
        "average_win = money/trials\n",
        "print(average_win)"
      ],
      "execution_count": 12,
      "outputs": [
        {
          "output_type": "stream",
          "text": [
            "0.8003\n"
          ],
          "name": "stdout"
        }
      ]
    },
    {
      "cell_type": "markdown",
      "metadata": {
        "id": "UKmpvi3bPZ1p"
      },
      "source": [
        "Средний выигрыш составляет 80 копеек. При стоимости каждой игры в 1 рубль, получается, что игрок каждую игру теряет 20 копеек.\\\n",
        "Результаты моделирования и расчета практически совпадают."
      ]
    }
  ]
}