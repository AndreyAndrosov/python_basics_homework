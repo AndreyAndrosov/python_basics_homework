{
 "cells": [
  {
   "cell_type": "markdown",
   "metadata": {},
   "source": [
    "# Задание 1. Средние буквы в слове."
   ]
  },
  {
   "cell_type": "markdown",
   "metadata": {},
   "source": [
    "1. Вариант - количество букв в слове - нечетное:"
   ]
  },
  {
   "cell_type": "code",
   "execution_count": 1,
   "metadata": {},
   "outputs": [
    {
     "name": "stdout",
     "output_type": "stream",
     "text": [
      "Введите слово латиницей:   world\n",
      "Средняя(ние) буква(ы):  r\n"
     ]
    }
   ],
   "source": [
    "w = input('Введите слово латиницей:   ')\n",
    "\n",
    "# Нахожу \"середину слова\"\n",
    "\n",
    "w_avrg = len(w)//2 \n",
    "\n",
    "# Определяю, какое количество букв в слове - четное или нет.\n",
    "# В зависимости от этого вывожу одну или две буквы.\n",
    "\n",
    "if len(w)%2 == 0:\n",
    "  print('Средняя(ние) буква(ы): ', w[w_avrg - 1], w[w_avrg])\n",
    "else:\n",
    "  print('Средняя(ние) буква(ы): ', w[w_avrg])"
   ]
  },
  {
   "cell_type": "markdown",
   "metadata": {},
   "source": [
    "2. Вариант - количество букв в слове - четное:"
   ]
  },
  {
   "cell_type": "code",
   "execution_count": 2,
   "metadata": {},
   "outputs": [
    {
     "name": "stdout",
     "output_type": "stream",
     "text": [
      "Введите слово латиницей:   revolution\n",
      "Средняя(ние) буква(ы):  l u\n"
     ]
    }
   ],
   "source": [
    "w = input('Введите слово латиницей:   ')\n",
    "\n",
    "w_avrg = len(w)//2 \n",
    "\n",
    "if len(w)%2 == 0:\n",
    "  print('Средняя(ние) буква(ы): ', w[w_avrg - 1], w[w_avrg])\n",
    "else:\n",
    "  print('Средняя(ние) буква(ы): ', w[w_avrg])"
   ]
  },
  {
   "cell_type": "markdown",
   "metadata": {},
   "source": [
    "# Задание 2. Цикл суммирования"
   ]
  },
  {
   "cell_type": "code",
   "execution_count": 3,
   "metadata": {},
   "outputs": [
    {
     "name": "stdout",
     "output_type": "stream",
     "text": [
      "Введите число: 2\n",
      "Введите число: 4\n",
      "Введите число: 6\n",
      "Введите число: 9\n",
      "Введите число: 0\n",
      "Результат:  21\n"
     ]
    }
   ],
   "source": [
    "x = int(input('Введите число: '))\n",
    "y = x\n",
    "\n",
    "# Пока вводимое число не будет 0 - ввод будет продолжаться.\n",
    "\n",
    "while x != 0:\n",
    "  x = int(input('Введите число: '))\n",
    "  y = y + x\n",
    "print('Результат: ', y) \n"
   ]
  },
  {
   "cell_type": "markdown",
   "metadata": {},
   "source": [
    "Если сразу введут 0:"
   ]
  },
  {
   "cell_type": "code",
   "execution_count": 4,
   "metadata": {},
   "outputs": [
    {
     "name": "stdout",
     "output_type": "stream",
     "text": [
      "Введите число: 0\n",
      "Результат:  0\n"
     ]
    }
   ],
   "source": [
    "x = int(input('Введите число: '))\n",
    "y = x\n",
    "\n",
    "while x != 0:\n",
    "  x = int(input('Введите число: '))\n",
    "  y = y + x\n",
    "print('Результат: ', y) \n"
   ]
  },
  {
   "cell_type": "markdown",
   "metadata": {},
   "source": [
    "# Задание 3. \"Идеальная пара\""
   ]
  },
  {
   "cell_type": "markdown",
   "metadata": {},
   "source": [
    "1. Вариант, когда количество мальчиков и девочек разное:"
   ]
  },
  {
   "cell_type": "code",
   "execution_count": 9,
   "metadata": {},
   "outputs": [
    {
     "name": "stdout",
     "output_type": "stream",
     "text": [
      "Внимание! Кто-то может остаться без пары!\n"
     ]
    }
   ],
   "source": [
    "boys = ['Peter', 'Alex', 'John', 'Arthur', 'Richard', 'Yuri']\n",
    "girls = ['Kate', 'Liza', 'Kira', 'Emma', 'Trisha']\n",
    "\n",
    "boys.sort() # выстраиваю всех по алфавиту\n",
    "girls.sort()\n",
    "\n",
    "if len(boys) == len(girls): # ввожу зависимость результата от равенства длин списков \n",
    "  print('Идеальные пары:')\n",
    "  for i in range(len(boys)):  \n",
    "    print(boys[i], girls[i])\n",
    "else:\n",
    "  print('Внимание! Кто-то может остаться без пары!')"
   ]
  },
  {
   "cell_type": "markdown",
   "metadata": {},
   "source": [
    "2. Вариант, когда мальчиков и девочек поровну:"
   ]
  },
  {
   "cell_type": "code",
   "execution_count": 6,
   "metadata": {},
   "outputs": [
    {
     "name": "stdout",
     "output_type": "stream",
     "text": [
      "Идеальные пары:\n",
      "Alex Emma\n",
      "Arthur Kate\n",
      "John Kira\n",
      "Peter Liza\n",
      "Richard Trisha\n"
     ]
    }
   ],
   "source": [
    "boys = ['Peter', 'Alex', 'John', 'Arthur', 'Richard']\n",
    "girls = ['Kate', 'Liza', 'Kira', 'Emma', 'Trisha']\n",
    "\n",
    "boys.sort() \n",
    "girls.sort()\n",
    "\n",
    "if len(boys) == len(girls): \n",
    "  print('Идеальные пары:')\n",
    "  for i in range(len(boys)):  \n",
    "    print(boys[i], girls[i])\n",
    "else:\n",
    "  print('Внимание! Кто-то может остаться без пары!')"
   ]
  },
  {
   "cell_type": "markdown",
   "metadata": {},
   "source": [
    "# Задание 4. Средняя температура, С."
   ]
  },
  {
   "cell_type": "code",
   "execution_count": 7,
   "metadata": {},
   "outputs": [
    {
     "name": "stdout",
     "output_type": "stream",
     "text": [
      "Thailand : 23.86 C\n",
      "Germany : 13.8 C\n",
      "Russia : 3.71 C\n",
      "Poland : 12.0 C\n"
     ]
    }
   ],
   "source": [
    "countries_temperature = [\n",
    "    ['Thailand', [75.2, 77, 78.8, 73.4, 68, 75.2, 77]],\n",
    "    ['Germany', [57.2, 55.4, 59, 59, 53.6]],\n",
    "    ['Russia', [35.6, 37.4, 39.2, 41, 42.8, 39.2, 35.6]],\n",
    "    ['Poland', [50, 50, 53.6, 57.2, 55.4, 55.4]]\n",
    "]\n",
    "\n",
    "\"\"\" задача у меня была - добраться до списка \n",
    "с температурами, найти среднюю температуру\n",
    "по Фаренгейту и перевести ее в \"Цельсий\"\n",
    "Я для этого вводил новые списки, которые формировал, \n",
    "\"вытаскивая\" списки из бОльшего списка.\n",
    "\"\"\"\n",
    "\n",
    "for i in range(len(countries_temperature)):\n",
    "\n",
    "  countries = countries_temperature [i]\n",
    " \n",
    "  temp = countries [1]\n",
    "\n",
    "  average = sum(temp) / len(temp)\n",
    "\n",
    "  avg_C = (average - 32)/ 1.8\n",
    "\n",
    "  print(countries[0],':', round(avg_C, 2), 'C')"
   ]
  },
  {
   "cell_type": "markdown",
   "metadata": {},
   "source": [
    "# Задание 5. Статистика посещений."
   ]
  },
  {
   "cell_type": "code",
   "execution_count": 8,
   "metadata": {},
   "outputs": [
    {
     "name": "stdout",
     "output_type": "stream",
     "text": [
      "Среднее количество просмотров на уникального пользователя:  23.25\n"
     ]
    }
   ],
   "source": [
    "stream = [\n",
    "    '2018-01-01,user1,3',\n",
    "    '2018-01-07,user1,4',\n",
    "    '2018-03-29,user1,1',\n",
    "    '2018-04-04,user1,13',\n",
    "    '2018-01-05,user2,7',\n",
    "    '2018-06-14,user3,4',\n",
    "    '2018-07-02,user3,10',\n",
    "    '2018-03-21,user4,19',\n",
    "    '2018-03-22,user4,4',\n",
    "    '2018-04-22,user4,8',\n",
    "    '2018-05-03,user4,9',\n",
    "    '2018-05-11,user4,11',\n",
    "]\n",
    "\n",
    "total_time = 0 # ввожу пременную \"всего посещений\"\n",
    "\n",
    "user_numbers = 0 # ввожу переменную \"количество юзеров\"\n",
    "\n",
    "count = 0 # ввожу переменную \"количество уникальных посещений\"\n",
    "\n",
    "for i in range(len(stream)):\n",
    "\n",
    "  data = stream [i]\n",
    "\n",
    "  user = data[15] # определяю уникальных посетителей - 15я позиция - как раз номер юзера\n",
    "  user_d = int(user) #  делаю номера посетителей числами (мне показалось, что так будет проще найти их количество)\n",
    "  \n",
    "  if user_numbers - user_d != 0: # если посещает не один и тот же \"номер юзера\" - количество уникальных посещений увеличивается\n",
    "    count = count +1\n",
    "  else:\n",
    "    count = count # а если один и тот же - не увеличивается (как смог, так формулу и написал)\n",
    "\n",
    "  user_numbers = user_d\n",
    "\n",
    "  time = data [17:] # выделяю \"разы\" посещений - они после 17го элемента в строках  - где один где два. \n",
    "  time_d = int(time) # превращаю разы посещений в числа - чтобы потом сложить.\n",
    "\n",
    "  a = a + time_d\n",
    "\n",
    "avg_time = a/count # нахожу среднее количество просмотров (посещений)\n",
    "print('Среднее количество просмотров на уникального пользователя: ', avg_time)"
   ]
  },
  {
   "cell_type": "markdown",
   "metadata": {},
   "source": [
    "На вторую часть задания 5 и на задание 6 у меня не хватило сил. Перегорел. Я хотел решить вторую часть задания 5 путем приведения номеров юзеров всех  к четырем знакам, но как это сделать не нашел. То же самое по поводу просмотров - где двузначное, где трехзначное - и все это не числа, а строки. Думал искал, потом просто уже не мог смотреть на этот код. Буду благодарен за наводку. Спасибо!"
   ]
  }
 ],
 "metadata": {
  "kernelspec": {
   "display_name": "Python 3",
   "language": "python",
   "name": "python3"
  },
  "language_info": {
   "codemirror_mode": {
    "name": "ipython",
    "version": 3
   },
   "file_extension": ".py",
   "mimetype": "text/x-python",
   "name": "python",
   "nbconvert_exporter": "python",
   "pygments_lexer": "ipython3",
   "version": "3.8.5"
  }
 },
 "nbformat": 4,
 "nbformat_minor": 4
}
