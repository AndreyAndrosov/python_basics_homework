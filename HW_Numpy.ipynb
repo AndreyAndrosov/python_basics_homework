{
 "cells": [
  {
   "cell_type": "markdown",
   "metadata": {},
   "source": [
    "### Задание 1\n",
    "Создайте numpy array с элементами от числа N до 0 (например, для N = 10 это будет array([9, 8, 7, 6, 5, 4, 3, 2, 1, 0]))."
   ]
  },
  {
   "cell_type": "markdown",
   "metadata": {},
   "source": [
    "#### Вариант 1.  Создаю дословно по условию: \"от числа N до 0\""
   ]
  },
  {
   "cell_type": "code",
   "execution_count": 1,
   "metadata": {},
   "outputs": [],
   "source": [
    "import numpy as np"
   ]
  },
  {
   "cell_type": "code",
   "execution_count": 3,
   "metadata": {},
   "outputs": [
    {
     "name": "stdout",
     "output_type": "stream",
     "text": [
      "введите число: 6\n"
     ]
    },
    {
     "data": {
      "text/plain": [
       "array([6, 5, 4, 3, 2, 1, 0])"
      ]
     },
     "execution_count": 3,
     "metadata": {},
     "output_type": "execute_result"
    }
   ],
   "source": [
    "N = int(input('введите число: ')) # задаю N\n",
    "list_ = [] # создаю пустой список для заполнения\n",
    "\n",
    "while N >= 0: \n",
    "  list_.append(N) # в цикле от N до 0 наполняю список\n",
    "  N -= 1\n",
    "\n",
    "list_r = np.array(list_) # превращаю список в массив numpy\n",
    "list_r\n",
    "# получается массив, который начинается именно с N."
   ]
  },
  {
   "cell_type": "markdown",
   "metadata": {},
   "source": [
    "#### Вариант 2. по \"напримеру\" (например, для N = 10 это будет array([9, 8, 7, 6, 5, 4, 3, 2, 1, 0])"
   ]
  },
  {
   "cell_type": "code",
   "execution_count": 5,
   "metadata": {},
   "outputs": [
    {
     "name": "stdout",
     "output_type": "stream",
     "text": [
      "Введите число: 8\n"
     ]
    },
    {
     "data": {
      "text/plain": [
       "array([7, 6, 5, 4, 3, 2, 1, 0])"
      ]
     },
     "execution_count": 5,
     "metadata": {},
     "output_type": "execute_result"
    }
   ],
   "source": [
    "N = int(input('Введите число: ')) # задаю N\n",
    "\n",
    "list_ = np.arange(0, N)  # в библиотеке numpy нашел метод, создающий массив\n",
    "\n",
    "res = np.flipud(list_)  # в библиотеке numpy нашел метод, инвертирующий порядок элементов массива \n",
    "\n",
    "res\n",
    "# получается массив, который начинается c N-1"
   ]
  },
  {
   "cell_type": "markdown",
   "metadata": {},
   "source": [
    "### Задание 2. Диагональная матрица. Сумма значений диагонали."
   ]
  },
  {
   "cell_type": "code",
   "execution_count": 7,
   "metadata": {},
   "outputs": [
    {
     "name": "stdout",
     "output_type": "stream",
     "text": [
      "Диагональная матрица: \n",
      "\n",
      "[[7 0 0 0 0 0 0 0]\n",
      " [0 6 0 0 0 0 0 0]\n",
      " [0 0 5 0 0 0 0 0]\n",
      " [0 0 0 4 0 0 0 0]\n",
      " [0 0 0 0 3 0 0 0]\n",
      " [0 0 0 0 0 2 0 0]\n",
      " [0 0 0 0 0 0 1 0]\n",
      " [0 0 0 0 0 0 0 0]]\n",
      "\n",
      "Сумма значений диагонали:  28\n"
     ]
    }
   ],
   "source": [
    "# использую для решения массив из предыдущей задачи, вариант 2 (res).\n",
    "# все методы - и создание матрицы, и расчет суммы - нашел в библиотеке numpy. \n",
    "\n",
    "m_diag = np.diag(res)\n",
    "\n",
    "m_diag_sum = np.sum(res)\n",
    "\n",
    "print('Диагональная матрица: ')\n",
    "print() # пустая строчка (для красоты и чтобы \"каши\" не было)\n",
    "print(m_diag)\n",
    "print()\n",
    "print('Сумма значений диагонали: ', m_diag_sum)"
   ]
  },
  {
   "cell_type": "markdown",
   "metadata": {},
   "source": [
    "### Задание 3. Решение системы уравнений"
   ]
  },
  {
   "cell_type": "code",
   "execution_count": 9,
   "metadata": {},
   "outputs": [
    {
     "name": "stdout",
     "output_type": "stream",
     "text": [
      "[ 0.46666667  3.84444444 -5.55555556]\n",
      "x =  0.467\n",
      "y =  3.844\n",
      "z =  -5.556\n"
     ]
    }
   ],
   "source": [
    "\"\"\"\n",
    "Решите систему уравнений:\n",
    "4x + 2y + z = 4\n",
    "x + 3y = 12\n",
    "5y + 4z = -3\n",
    "\"\"\"\n",
    "# записываю в массивы коэффициенты к переменным. Если переменной нет - значит, коэфф=0.\n",
    "# Задача - получить матрицу - то есть в каждом списке массива д.б. одинаковое кол-во элементов:\n",
    "\n",
    "M = np.array([[4., 2., 1.], [1., 3., 0.], [0., 5., 4.]]) # Матрица (левая часть системы уравнений)\n",
    "\n",
    "# записываю в массив значения уравнений (левая часть) - получается вектор:\n",
    "v = np.array([4., 12., -3.]) # Вектор (правая часть системы уравнений)\n",
    "\n",
    "a = np.linalg.solve(M, v) # решаю уравнение с помощью numpy\n",
    "\n",
    "print(a) # получили список значений переменных\n",
    "\n",
    "# представляю решение уравнений в привычном виде\n",
    "# т.е. показываю, чему равна каждая переменная:\n",
    "\n",
    "l = list(a)\n",
    "res_x = format(l[0], '.3f') # округляю до тысячных\n",
    "res_y = format(l[1], '.3f')\n",
    "res_z = format(l[2], '.3f')\n",
    "print('x = ', res_x)\n",
    "print('y = ', res_y)\n",
    "print('z = ', res_z)\n"
   ]
  },
  {
   "cell_type": "markdown",
   "metadata": {},
   "source": [
    "P.S. Проверил решение на калькуляторе - сошлось."
   ]
  },
  {
   "cell_type": "markdown",
   "metadata": {},
   "source": [
    "### Задание 4. Из занятия."
   ]
  },
  {
   "cell_type": "markdown",
   "metadata": {},
   "source": [
    "Имеется матрица покупок в интернет-магазине. Столбец А - ID пользователя. Остальные столбцы - количество покупок категорий товаров этим пользователем:"
   ]
  },
  {
   "cell_type": "markdown",
   "metadata": {},
   "source": [
    "Матрица в виде numpy array:"
   ]
  },
  {
   "cell_type": "code",
   "execution_count": 10,
   "metadata": {},
   "outputs": [],
   "source": [
    "users_stats = np.array(\n",
    "    [\n",
    "        [2, 1, 0, 0, 0, 0],\n",
    "        [1, 1, 2, 1, 0, 0],\n",
    "        [2, 0, 1, 0, 0, 0],\n",
    "        [1, 1, 2, 1, 0, 1],\n",
    "        [0, 0, 1, 2, 0, 0],\n",
    "        [0, 0, 0, 0, 0, 5],\n",
    "        [1, 0, 0, 0, 0, 0],\n",
    "        [0, 1, 1, 0, 0, 0],\n",
    "        [0, 0, 0, 1, 1, 3],\n",
    "        [1, 0, 0, 2, 1, 4]\n",
    "    ], \n",
    "    np.int32\n",
    ")"
   ]
  },
  {
   "cell_type": "markdown",
   "metadata": {},
   "source": [
    "На сайт заходит очередной посетитель, о покупках которого известно следующее:"
   ]
  },
  {
   "cell_type": "code",
   "execution_count": 11,
   "metadata": {},
   "outputs": [],
   "source": [
    "next_user_stats = np.array([0, 1, 2, 0, 0, 0])"
   ]
  },
  {
   "cell_type": "markdown",
   "metadata": {},
   "source": [
    "Найдите самого похожего пользователя. Т. е. посчитайте косинусное сходство между этим пользователем и всеми пользователями из массива user_stats"
   ]
  },
  {
   "cell_type": "markdown",
   "metadata": {},
   "source": [
    "Решение:"
   ]
  },
  {
   "cell_type": "code",
   "execution_count": 13,
   "metadata": {},
   "outputs": [
    {
     "name": "stdout",
     "output_type": "stream",
     "text": [
      "Косинусное сходство нового пользователя с каждым пользователем из базы:\n",
      "0.19999999999999996\n",
      "0.8451542547285165\n",
      "0.3999999999999999\n",
      "0.7905694150420948\n",
      "0.3999999999999999\n",
      "0.0\n",
      "0.0\n",
      "0.9486832980505138\n",
      "0.0\n",
      "0.0\n",
      "0.9486832980505138\n",
      "\n",
      "Самый похожий пользователь: User_ID:  8\n"
     ]
    }
   ],
   "source": [
    "# Повторю данные задачи:\n",
    "users_stats = np.array(\n",
    "    [\n",
    "        [2, 1, 0, 0, 0, 0],\n",
    "        [1, 1, 2, 1, 0, 0],\n",
    "        [2, 0, 1, 0, 0, 0],\n",
    "        [1, 1, 2, 1, 0, 1],\n",
    "        [0, 0, 1, 2, 0, 0],\n",
    "        [0, 0, 0, 0, 0, 5],\n",
    "        [1, 0, 0, 0, 0, 0],\n",
    "        [0, 1, 1, 0, 0, 0],\n",
    "        [0, 0, 0, 1, 1, 3],\n",
    "        [1, 0, 0, 2, 1, 4]\n",
    "    ], \n",
    "    np.int32\n",
    ")\n",
    "\n",
    "next_user_stats = np.array([0, 1, 2, 0, 0, 0])\n",
    "\n",
    "# Решение:\n",
    "\n",
    "cosine = [] # Создаю пустой список\n",
    "i = 0 # создаю счетчик\n",
    "\n",
    "print('Косинусное сходство нового пользователя с каждым пользователем из базы:') # \"шапка\" для вывода результата (для красоты)\n",
    "\n",
    "# используя материалы занятия считаю косинусы, но делаю это в цикле, проходясь по всем спискам - элементам массива-матрицы:\n",
    "for item in users_stats:\n",
    "  aLength = np.linalg.norm( users_stats[i] )\n",
    "  bLength = np.linalg.norm( next_user_stats )  \n",
    "\n",
    "  cos_ = np.dot( users_stats[i], next_user_stats) / ( aLength * bLength )\n",
    "  cosine.append(cos_)\n",
    " \n",
    "  print(cos_)\n",
    "  i = i+1\n",
    "\n",
    "# определяю максимальное значение косинуса из полученных\n",
    "max_ = max(cosine)\n",
    "print(max(cosine))\n",
    "\n",
    "# определяю ID клиента с максимальным значением косинуса:\n",
    "closer_user_ID = cosine.index(max_) + 1\n",
    "\n",
    "print()# пропускаю строчку (для красоты)\n",
    "print('Самый похожий пользователь: User_ID: ',closer_user_ID)"
   ]
  }
 ],
 "metadata": {
  "kernelspec": {
   "display_name": "Python 3",
   "language": "python",
   "name": "python3"
  },
  "language_info": {
   "codemirror_mode": {
    "name": "ipython",
    "version": 3
   },
   "file_extension": ".py",
   "mimetype": "text/x-python",
   "name": "python",
   "nbconvert_exporter": "python",
   "pygments_lexer": "ipython3",
   "version": "3.8.5"
  }
 },
 "nbformat": 4,
 "nbformat_minor": 4
}
