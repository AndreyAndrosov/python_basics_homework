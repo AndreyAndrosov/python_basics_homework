{
 "cells": [
  {
   "cell_type": "code",
   "execution_count": 1,
   "metadata": {},
   "outputs": [],
   "source": [
    "import json"
   ]
  },
  {
   "cell_type": "markdown",
   "metadata": {},
   "source": [
    "### Задание 1. Сам."
   ]
  },
  {
   "cell_type": "code",
   "execution_count": 3,
   "metadata": {},
   "outputs": [
    {
     "name": "stdout",
     "output_type": "stream",
     "text": [
      "{'1840e0b9d4': 'Продукты', '4e4f90fcfb': 'Электроника', 'afea8d72fc': 'Электроника', '373a6055fe': 'Бытовая техника', '9b2ab046f3': 'Электроника', '9f39d307c3': 'Электроника', '44edeffc91': 'Продукты', '704474fa2d': 'Продукты', '1de31be403': 'Бытовая техника', 'b71f36a5e4': 'Продукты'}\n"
     ]
    }
   ],
   "source": [
    "i = 0 # для того, чтобы не печатать весь новый словарь из файла\n",
    "      # ограничение  по количеству выставлю внизу цикла.\n",
    "\n",
    "purchases = {} # ввожу целевой словарь, пока пустой.\n",
    "\n",
    "with open('purchase_log.txt') as f: \n",
    "    for line in f:\n",
    "        line = line.strip()        \n",
    "        dict_ = json.loads(line)\n",
    "       \n",
    "        dict_1 = {dict_[\"user_id\"]: dict_[\"category\"]} # в цикле создаю \"промежуточный\" словарь, \n",
    "       \n",
    "        if i > 0:                   \n",
    "          purchases.update(dict_1)   #пошагово добавляю в целевой словарь данные из словаря промежуточного\n",
    "      \n",
    "        i += 1\n",
    "        if i > 10: # вот и ограничение по количеству.\n",
    "            break\n",
    "print(purchases)\n"
   ]
  },
  {
   "cell_type": "markdown",
   "metadata": {},
   "source": [
    "### Задание 1. Нашел. "
   ]
  },
  {
   "cell_type": "code",
   "execution_count": 4,
   "metadata": {},
   "outputs": [
    {
     "name": "stdout",
     "output_type": "stream",
     "text": [
      "{'1840e0b9d4': 'Продукты', '4e4f90fcfb': 'Электроника', 'afea8d72fc': 'Электроника', '373a6055fe': 'Бытовая техника', '9b2ab046f3': 'Электроника', '9f39d307c3': 'Электроника', '44edeffc91': 'Продукты', '704474fa2d': 'Продукты', '1de31be403': 'Бытовая техника', 'b71f36a5e4': 'Продукты'}\n"
     ]
    }
   ],
   "source": [
    "# При решении здесь используется setdefault, о котором я позабыл. \n",
    "# Ну, да, так симпатинее. но мой вариант мне кажется тоже верным.\n",
    "\n",
    "i = 0\n",
    "purchases={}\n",
    "with open('purchase_log.txt', encoding='utf-8') as f :\n",
    "    for line in f:\n",
    "        line = line.strip()\n",
    "        dict_ = json.loads(line)\n",
    "        #print(dict_)\n",
    "        key=dict_['user_id']\n",
    "        value=dict_['category']\n",
    "        if key!='user_id':\n",
    "            purchases.setdefault(key,value)\n",
    "        i += 1\n",
    "        if i > 10: # вот и ограничение по количеству.\n",
    "            break\n",
    "print(purchases)"
   ]
  },
  {
   "cell_type": "markdown",
   "metadata": {},
   "source": [
    "### Задание 2. Работа с .csv"
   ]
  },
  {
   "cell_type": "markdown",
   "metadata": {},
   "source": [
    "### Задание 2. Из сети."
   ]
  },
  {
   "cell_type": "code",
   "execution_count": 8,
   "metadata": {},
   "outputs": [
    {
     "name": "stdout",
     "output_type": "stream",
     "text": [
      "0 user_id,source,category\n",
      "\n",
      "1 6450655ae8,other\n",
      "\n",
      "2 b4ea53e670,other\n",
      "\n",
      "3 0e37347152,other\n",
      "\n",
      "4 96064ae9e0,other\n",
      "\n",
      "5 e1bd168161,context\n",
      "\n",
      "6 71bcf169b4,other\n",
      "\n",
      "7 e0aee73c5d,other\n",
      "\n",
      "8 1f8845e157,context\n",
      "\n",
      "9 78d22c5c78,other\n",
      "\n",
      "10 dd85040770,other\n",
      "\n",
      "11 2301051b25,other\n",
      "\n",
      "12 86835b81ac,context\n",
      "\n",
      "13 90d9a575a2,other\n",
      "\n",
      "14 1b75c4f23f,other\n",
      "\n",
      "15 d94b908660,None\n",
      "\n",
      "16 f697206af5,other\n",
      "\n",
      "17 8a9a2de36e,other\n",
      "\n",
      "18 dd3d43c266,context\n",
      "\n",
      "19 f6401d302f,context\n",
      "\n",
      "20 b18d58560b,email\n",
      "\n",
      "21 ed79586589,other\n",
      "\n",
      "22 1840e0b9d4,other,Продукты\n",
      "\n",
      "23 b4afdc5ccc,other\n",
      "\n"
     ]
    }
   ],
   "source": [
    "\n",
    "with open('visit_log.csv', 'r') as f, open('funnel_1.csv', 'w') as w_f:\n",
    "\n",
    "    for row in f: \n",
    "\n",
    "        line_list=row.strip().split(',')\n",
    "\n",
    "        if line_list[0]=='user_id':\n",
    "            line_list.append('category')\n",
    "            add_line=','.join(line_list) # меня смутило это добавление в список в цикле в каждой строке\n",
    "                                        # я вынес этот add_line за цикл (не здесь, потом вернул) - все работало. \n",
    "        elif line_list[0] in purchases.keys():\n",
    "            line_list.append(purchases[line_list[0]])\n",
    "            add_line=','.join(line_list) \n",
    "             \n",
    "        else:                          \n",
    "            add_line=','.join(line_list)\n",
    "      \n",
    "        w_f.write(add_line+'\\n')\n",
    "\n",
    "r_f = open('funnel_1.csv', 'r', encoding='utf-8')\n",
    "i = 0\n",
    "for x, line in enumerate(r_f):\n",
    "    print(x, line)\n",
    "    i += 1\n",
    "    if i > 23:\n",
    "      break  "
   ]
  },
  {
   "cell_type": "markdown",
   "metadata": {},
   "source": [
    "Мне не понравилось, что тут очень много лишнего - строчек без покупок.\n",
    "\n",
    "Долго думал, как получить только строки с покупками.\n",
    "\n",
    "Даже попробовал сделать так:\n"
   ]
  },
  {
   "cell_type": "code",
   "execution_count": 6,
   "metadata": {},
   "outputs": [
    {
     "name": "stdout",
     "output_type": "stream",
     "text": [
      "['user_id', 'source', 'category']\n",
      "['1840e0b9d4', 'other', 'Продукты']\n",
      "['4e4f90fcfb', 'context', 'Электроника']\n",
      "['afea8d72fc', 'other', 'Электроника']\n",
      "['373a6055fe', 'other', 'Бытовая техника']\n",
      "['9b2ab046f3', 'other', 'Электроника']\n",
      "['9f39d307c3', 'context', 'Электроника']\n",
      "['44edeffc91', 'context', 'Продукты']\n",
      "['704474fa2d', 'other', 'Продукты']\n",
      "['1de31be403', 'other', 'Бытовая техника']\n",
      "['b71f36a5e4', 'other', 'Продукты']\n"
     ]
    }
   ],
   "source": [
    "with open('visit_log.csv', 'r') as f, open('funnel.csv', 'w') as w_f:\n",
    " \n",
    "    for row in f:\n",
    "        line_list=row.strip().split(',')     \n",
    "        if line_list[0] in purchases.keys():\n",
    "            line_list.append(purchases[line_list[0]])\n",
    "           \n",
    "        elif line_list[0]=='user_id':\n",
    "            line_list.append('category')\n",
    "            \n",
    "        add_line=','.join(line_list)\n",
    "        w_f.write(add_line+'\\n')\n",
    "        \n",
    "#ввел новый файл, открыл его, как список\n",
    "r_f = open('funnel.csv', 'r', encoding='utf-8') \n",
    "\n",
    "#по длине строки сделал вывод:\n",
    "\n",
    "for line in r_f:\n",
    "    sp = line.strip().split(',')\n",
    "    if len(sp) == 3:\n",
    "      print(sp)\n"
   ]
  },
  {
   "cell_type": "markdown",
   "metadata": {},
   "source": [
    "Не понравилось - не в том виде выводится."
   ]
  },
  {
   "cell_type": "code",
   "execution_count": 7,
   "metadata": {},
   "outputs": [
    {
     "name": "stdout",
     "output_type": "stream",
     "text": [
      "0 user_id,source,category\n",
      "\n",
      "1 1840e0b9d4,other,Продукты\n",
      "\n",
      "2 4e4f90fcfb,context,Электроника\n",
      "\n",
      "3 afea8d72fc,other,Электроника\n",
      "\n",
      "4 373a6055fe,other,Бытовая техника\n",
      "\n",
      "5 9b2ab046f3,other,Электроника\n",
      "\n",
      "6 9f39d307c3,context,Электроника\n",
      "\n",
      "7 44edeffc91,context,Продукты\n",
      "\n",
      "8 704474fa2d,other,Продукты\n",
      "\n",
      "9 1de31be403,other,Бытовая техника\n",
      "\n",
      "10 b71f36a5e4,other,Продукты\n",
      "\n"
     ]
    }
   ],
   "source": [
    "#подумал -а почему не вставить запись файла в цикл?\n",
    "# И вставил\n",
    "\n",
    "with open('visit_log.csv', 'r') as f, open('funnel.csv', 'w') as w_f:\n",
    "    for row in f:        \n",
    "        line_list=row.strip().split(',')\n",
    "        if line_list[0]=='user_id':\n",
    "            line_list.append('category')\n",
    "            add_line=','.join(line_list) \n",
    "            w_f.write(add_line+'\\n')    # вставил запись файла в цикл.       \n",
    "        elif line_list[0] in purchases.keys():\n",
    "            line_list.append(purchases[line_list[0]])\n",
    "            add_line=','.join(line_list) \n",
    "            w_f.write(add_line+'\\n')   # и тут.       \n",
    "      \n",
    "r_f = open('funnel.csv', 'r', encoding='utf-8')\n",
    "\n",
    "for x, line in enumerate(r_f):\n",
    "    print(x, line)\n",
    "    \n",
    "#по-моему, получилось:  \n"
   ]
  }
 ],
 "metadata": {
  "kernelspec": {
   "display_name": "Python 3",
   "language": "python",
   "name": "python3"
  },
  "language_info": {
   "codemirror_mode": {
    "name": "ipython",
    "version": 3
   },
   "file_extension": ".py",
   "mimetype": "text/x-python",
   "name": "python",
   "nbconvert_exporter": "python",
   "pygments_lexer": "ipython3",
   "version": "3.8.5"
  }
 },
 "nbformat": 4,
 "nbformat_minor": 4
}
