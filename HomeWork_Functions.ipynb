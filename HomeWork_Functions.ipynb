{
 "cells": [
  {
   "cell_type": "markdown",
   "metadata": {},
   "source": [
    "# Исходные данные"
   ]
  },
  {
   "cell_type": "code",
   "execution_count": 6,
   "metadata": {},
   "outputs": [],
   "source": [
    "# Перечень всех документов:\n",
    "\n",
    "documents = [\n",
    " {'type': 'passport', 'number': '2207 876234', 'name': 'Василий Гупкин'},\n",
    " {'type': 'invoice', 'number': '11-2', 'name': 'Геннадий Покемонов'},\n",
    " {'type': 'insurance', 'number': '10006', 'name': 'Аристарх Павлов'}\n",
    "]\n",
    "# Перечень полок, на которых хранятся документы:\n",
    "\n",
    "directories = {\n",
    " '1': ['2207 876234', '11-2'],\n",
    " '2': ['10006'],\n",
    " '3': []\n",
    "}"
   ]
  },
  {
   "cell_type": "markdown",
   "metadata": {},
   "source": [
    "## Перечень доступных команд:\n",
    "### 1.  \"p\"   - Пользователь по команде \"p\" может узнать владельца документа по его номеру\n",
    "### 2.  \"s\"   - Пользователь по команде \"s\" может по номеру документа узнать на какой полке он хранится\n",
    "### 3.  \"l\"   - Пользователь по команде \"l\" может увидеть полную информацию по всем документам\n",
    "### 4.  \"ads\" - Пользователь по команде \"ads\" может добавить новую полку\n",
    "### 5.  \"ds\"  - Пользователь по команде \"ds\" может удалить существующую полку из данных (только если она пустая)\n",
    "### 6.  \"q\"  - прекращает выполнение программы.\n"
   ]
  },
  {
   "cell_type": "markdown",
   "metadata": {},
   "source": [
    "# Решение:"
   ]
  },
  {
   "cell_type": "markdown",
   "metadata": {},
   "source": [
    " ### 1. Ввожу функции, выполняющие соответствующие командам операции:"
   ]
  },
  {
   "cell_type": "code",
   "execution_count": 8,
   "metadata": {},
   "outputs": [
    {
     "name": "stdout",
     "output_type": "stream",
     "text": [
      "Введите номер документа: 1\n",
      "Документ не найден в базе\n"
     ]
    }
   ],
   "source": [
    "# 1. Ввожу функцию \"doc_owner\", которая определяет владельца документа по его (документа) номеру,\n",
    "# или выводит на экран сообщение, что документ не найден:\n",
    "\n",
    "def doc_owner(documents):\n",
    "  num_input = input('Введите номер документа: ')  \n",
    "  \n",
    "  for x in documents:\n",
    "    if num_input == x['number']:\n",
    "      return \"Владелец документа\" + \":\" + \" \" + x['name']\n",
    "\n",
    "  return \"Документ не найден в базе\"\n",
    "print(doc_owner(documents))"
   ]
  },
  {
   "cell_type": "code",
   "execution_count": 9,
   "metadata": {},
   "outputs": [
    {
     "name": "stdout",
     "output_type": "stream",
     "text": [
      "Введите номер документа: 1\n",
      "Документ не найден в базе\n"
     ]
    }
   ],
   "source": [
    "# 2. Ввожу функцию \"doc_shelf\", которая по номеру документа определяет, на какой полке он хранится,\n",
    "# или выводит на экран сообщение, что документ не найден:\n",
    "\n",
    "def doc_shelf(directories):\n",
    "  num_input = input('Введите номер документа: ')  \n",
    "  for x in directories:\n",
    "    if num_input in directories[x]:\n",
    "       return \"Документ хранится на полке\" + \":\" + \" \" + x\n",
    "\n",
    "  return \"Документ не найден в базе\"\n",
    "print(doc_shelf(directories))"
   ]
  },
  {
   "cell_type": "code",
   "execution_count": 10,
   "metadata": {},
   "outputs": [],
   "source": [
    "# 3. Задачу вывода полной информации по всем документам решаю в два этапа:\n",
    "# 3.1. ввожу промежуточную функцию \"get_key\", которая возвращает ключ по значению:\n",
    "\n",
    "def get_key(d, value):\n",
    "    for k, v in d.items():\n",
    "        if value in v:\n",
    "            return k\n",
    "# 3.2. ввожу функцию \"list\" (список) - которая выводит все данные по документам - номер, тип, чей, где:\n",
    "\n",
    "def list():\n",
    "    for c in documents:\n",
    "        doc_type = c['type']\n",
    "        number = c['number']\n",
    "        name = c['name']\n",
    "        print('№: {1}, тип: {0}, владелец: {2}, полка: {3}'.format(doc_type, number, name, get_key(directories,number)))\n",
    "\n",
    "# Для промежуточной проверки верности вывода можно снять значек комментария с функции \"print(list())\" ниже и вывести результат. \n",
    "\n",
    "#print(list())\n",
    "    "
   ]
  },
  {
   "cell_type": "code",
   "execution_count": 11,
   "metadata": {},
   "outputs": [
    {
     "name": "stdout",
     "output_type": "stream",
     "text": [
      "Введите номер новой полки: 1\n"
     ]
    },
    {
     "data": {
      "text/plain": [
       "'Такая полка уже существует. Текущий перечень полок:1,2,3'"
      ]
     },
     "execution_count": 11,
     "metadata": {},
     "output_type": "execute_result"
    }
   ],
   "source": [
    "# 4. Ввожу функцию \"add_shelf\", которая добавляет новую полку:\n",
    "# number = input(\"Введите номер новой полки: \")\n",
    "def add_shelf(number):\n",
    "  number = input(\"Введите номер новой полки: \")\n",
    "  if number in directories:\n",
    "    return 'Такая полка уже существует. Текущий перечень полок:' + ','.join(directories.keys())\n",
    "  directories[number] = []\n",
    "  return 'Полка добавлена. Текущий перечень полок:' + ','.join(directories.keys())\n",
    "add_shelf(number)\n"
   ]
  },
  {
   "cell_type": "code",
   "execution_count": 12,
   "metadata": {},
   "outputs": [
    {
     "name": "stdout",
     "output_type": "stream",
     "text": [
      "Введите номер полки, которую хотите удалить: 1\n"
     ]
    },
    {
     "data": {
      "text/plain": [
       "'На полке есть документы, удалите их перед удалением полки. Текущий перечень полок: 1, 2, 3'"
      ]
     },
     "execution_count": 12,
     "metadata": {},
     "output_type": "execute_result"
    }
   ],
   "source": [
    "# 5. Ввожу функцию \"rem_shelf\", которая удаляет существующую полку из данных (только если она пустая):\n",
    "\n",
    "def rem_shelf(directories):\n",
    "  number = input(\"Введите номер полки, которую хотите удалить: \")\n",
    "  if number in directories:\n",
    "    if len(directories[number]) > 0:\n",
    "      return 'На полке есть документы, удалите их перед удалением полки. Текущий перечень полок: ' + ', '.join(directories.keys())\n",
    "    del directories[number]\n",
    "    return 'Полка удалена. Текущий перечень полок: ' + ', '.join(directories.keys())\n",
    "  return 'Такой полки не существует. Текущий перечень полок:' + ', '.join(directories.keys())\n",
    "\n",
    "rem_shelf(directories)"
   ]
  },
  {
   "cell_type": "markdown",
   "metadata": {},
   "source": [
    "### Ввожу \"управляющую функцию\", которая в зависимости от команды включает выполнение соответствующей функции."
   ]
  },
  {
   "cell_type": "code",
   "execution_count": 13,
   "metadata": {},
   "outputs": [
    {
     "name": "stdout",
     "output_type": "stream",
     "text": [
      "Введите команду: p\n",
      "Введите номер документа: 1\n",
      "Документ не найден в базе\n",
      "Введите команду: ads\n",
      "Введите номер новой полки: 7\n",
      "Полка добавлена. Текущий перечень полок:1,2,3,7\n",
      "Введите команду: ds\n",
      "Введите номер полки, которую хотите удалить: 7\n",
      "Полка удалена. Текущий перечень полок: 1, 2, 3\n",
      "Введите команду: q\n",
      "До свидания!\n"
     ]
    }
   ],
   "source": [
    "# 6. Ввожу функцию \"main\", которая запускает выполнение одной из предыдущих функций, в зависимости от\n",
    "# введенной пользователем команды из перечня:\n",
    "\n",
    "def main(docs):\n",
    "    while True:\n",
    "        user_cmd = input('Введите команду: ')\n",
    "        if user_cmd == 'p':\n",
    "            print(doc_owner(documents))\n",
    "        elif user_cmd == 's':\n",
    "            print(doc_shell(directories))\n",
    "        elif user_cmd == 'l':\n",
    "            list()\n",
    "        elif user_cmd == 'ads':\n",
    "            print(add_shelf(directories))\n",
    "        elif user_cmd == 'ds':\n",
    "            print(rem_shelf(directories))\n",
    "        elif user_cmd == 'q':\n",
    "            print('До свидания!')\n",
    "            break\n",
    "           \n",
    "main(documents)"
   ]
  },
  {
   "cell_type": "code",
   "execution_count": null,
   "metadata": {},
   "outputs": [],
   "source": [
    "\n"
   ]
  }
 ],
 "metadata": {
  "kernelspec": {
   "display_name": "Python 3",
   "language": "python",
   "name": "python3"
  }
 },
 "nbformat": 4,
 "nbformat_minor": 4
}
