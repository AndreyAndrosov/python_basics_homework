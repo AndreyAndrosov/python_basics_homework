{
  "nbformat": 4,
  "nbformat_minor": 0,
  "metadata": {
    "colab": {
      "name": "HW_confidential_intervals.ipynb",
      "provenance": [],
      "collapsed_sections": [],
      "authorship_tag": "ABX9TyOvb75ZKeKbjNyV949p3Ize"
    },
    "kernelspec": {
      "name": "python3",
      "display_name": "Python 3"
    },
    "language_info": {
      "name": "python"
    }
  },
  "cells": [
    {
      "cell_type": "code",
      "metadata": {
        "scrolled": true,
        "id": "sXPm1KzAdLK7"
      },
      "source": [
        "import numpy as np  \n",
        "import pandas as pd  # для работы с таблицами\n",
        "from scipy import stats # При работе со статистикой\n",
        "import matplotlib.pyplot as plt  # Библиотека для визуализации результатов \n",
        "\n",
        "import seaborn as sns # Более продвинутая библиотека для визуализации"
      ],
      "execution_count": 1,
      "outputs": []
    },
    {
      "cell_type": "markdown",
      "metadata": {
        "id": "85Fk_exDdLLy"
      },
      "source": [
        "<div class=\"alert alert-info\">\n",
        "<b>Задание № 0</b>\n",
        "\n",
        "Найдите минимально необходимый объем выборки для построения интервальной оценки среднего.\n",
        "\n",
        "- желаемая точность $\\Delta$ = 3;\n",
        "- дисперсия $\\sigma^2$  = 225;\n",
        "- уровень доверия $\\beta$ = 0.95.\n",
        "    \n",
        "Ответ округлите до целого\n",
        "</div>"
      ]
    },
    {
      "cell_type": "code",
      "metadata": {
        "id": "9GvagJEUdLLO"
      },
      "source": [
        "sigma = 15  # Стандартное отклонение\n",
        "Z = 1.96  #  %   # Квантиль нормального распределения. \n",
        "Delta = 3 #%         #Погрешность"
      ],
      "execution_count": 2,
      "outputs": []
    },
    {
      "cell_type": "code",
      "metadata": {
        "id": "j8XuS9yAdLLO",
        "colab": {
          "base_uri": "https://localhost:8080/"
        },
        "outputId": "d76822eb-889c-4811-c441-9e22acb12ec8"
      },
      "source": [
        "N = int(((sigma*Z)/Delta)**2)\n",
        "print('минимально необходимый объем выборки: ', N)"
      ],
      "execution_count": 4,
      "outputs": [
        {
          "output_type": "stream",
          "text": [
            "минимально необходимый объем выборки:  96\n"
          ],
          "name": "stdout"
        }
      ]
    },
    {
      "cell_type": "markdown",
      "metadata": {
        "id": "oV8VH0GdWqph"
      },
      "source": [
        ""
      ]
    },
    {
      "cell_type": "markdown",
      "metadata": {
        "id": "YHBFvpT0dLL1"
      },
      "source": [
        "<div class=\"alert alert-info\">\n",
        "<b>Задание № 2</b>\n",
        "\n",
        "Даны две выборки роста мужчин и женщин. \n",
        "- Докажите, используя `t-Тест Стьдента`, что различие между выборками незначительно, если уровень значимости равен $\\alpha$ `= 0.001`.\n",
        "- Покажите различия визуально\n",
        "</div>"
      ]
    },
    {
      "cell_type": "code",
      "metadata": {
        "colab": {
          "base_uri": "https://localhost:8080/"
        },
        "id": "UPCPRAuFWvoZ",
        "outputId": "36871b5a-cc45-45d4-8b0f-704854302913"
      },
      "source": [
        "import scipy.stats as stats\n",
        "\n",
        "population_men = stats.norm.rvs(loc=19,scale=171,size=11000000)  # Выборка мужчин со средним ростом 171\n",
        "population_women = stats.norm.rvs(loc=16,scale=165,size=12000)  # Выборка женщин со средним ростом 165\n",
        "\n",
        "\n",
        "\n",
        "stats.ttest_ind(a=population_men, b=population_women, equal_var=False)"
      ],
      "execution_count": 6,
      "outputs": [
        {
          "output_type": "execute_result",
          "data": {
            "text/plain": [
              "Ttest_indResult(statistic=1.5941446677549458, pvalue=0.11092991376471907)"
            ]
          },
          "metadata": {
            "tags": []
          },
          "execution_count": 6
        }
      ]
    },
    {
      "cell_type": "markdown",
      "metadata": {
        "id": "GBkS7x-vYsWZ"
      },
      "source": [
        "pvalue больше уровня значимости, а это значит, что мы не можем отклонить нулевую гипотезу."
      ]
    },
    {
      "cell_type": "code",
      "metadata": {
        "id": "zRpYmfocdLLk",
        "colab": {
          "base_uri": "https://localhost:8080/",
          "height": 265
        },
        "outputId": "868331ab-f5c1-4d02-cb6a-a864c227eda4"
      },
      "source": [
        "plt.hist(population_men, bins=70);\n",
        "plt.hist(population_women, bins=70);"
      ],
      "execution_count": 39,
      "outputs": [
        {
          "output_type": "display_data",
          "data": {
            "image/png": "[encoded data removed]",
            "text/plain": [
              "<Figure size 432x288 with 1 Axes>"
            ]
          },
          "metadata": {
            "tags": [],
            "needs_background": "light"
          }
        }
      ]
    },
    {
      "cell_type": "markdown",
      "metadata": {
        "id": "e7XBfHjYdLL2"
      },
      "source": [
        "<div class=\"alert alert-info\">\n",
        "<b>Задание № 3</b>\n",
        "\n",
        "Определите объем необходимой выборки для исследования среднего чека за кофе в случайном городе если известно, что в этом городе:\n",
        "\n",
        "- стандартное отклонение $\\sigma = 150$;\n",
        "- уровень доверия $\\beta$  = 95%;\n",
        "- Погрешность $\\Delta = 50$ рублей.\n",
        "</div>"
      ]
    },
    {
      "cell_type": "code",
      "metadata": {
        "colab": {
          "base_uri": "https://localhost:8080/"
        },
        "id": "N986KSFZXF67",
        "outputId": "b59fa108-fd44-45cb-c56c-d898ac8e2e46"
      },
      "source": [
        "sigma = 150\n",
        "Z = 1.96  # 97,5%\n",
        "e = 50 #%\n",
        "\n",
        "N = int(((sigma*Z)/e)**2)\n",
        "N"
      ],
      "execution_count": 13,
      "outputs": [
        {
          "output_type": "execute_result",
          "data": {
            "text/plain": [
              "34"
            ]
          },
          "metadata": {
            "tags": []
          },
          "execution_count": 13
        }
      ]
    },
    {
      "cell_type": "markdown",
      "metadata": {
        "id": "MMYaUL4ldLL3"
      },
      "source": [
        "<div class=\"alert alert-info\">\n",
        "<b>Задание № 4</b>\n",
        "\n",
        "Представьте, что вы хотите разоблачить \"волшебника\" который считает, что умеет предсказывать погоду на завтра, отвечая просто: дождь или солнце. Вы пронаблюдали за ответами \"волшебника\" в течении какого-то периода времени и получили некие результаты (см.ниже).\n",
        "\n",
        "Можно ли сказать, что маг действительно умеет предсказывать погоду? Уровень значимости принять за `0.05` ($\\alpha=0.05$).\n",
        "</div>"
      ]
    },
    {
      "cell_type": "code",
      "metadata": {
        "colab": {
          "base_uri": "https://localhost:8080/",
          "height": 111
        },
        "id": "Fa_GTu7sZZKt",
        "outputId": "a819e18f-23ce-4be0-9271-8c11eb93aaa5"
      },
      "source": [
        "\n",
        "observations = pd.DataFrame([[25,36],[15,44]],\n",
        "                            index=['Дождь','Солнце'],\n",
        "                            columns=['Ответ волшебника','Реальность'])\n",
        "observations"
      ],
      "execution_count": 18,
      "outputs": [
        {
          "output_type": "execute_result",
          "data": {
            "text/html": [
              "<div>\n",
              "<style scoped>\n",
              "    .dataframe tbody tr th:only-of-type {\n",
              "        vertical-align: middle;\n",
              "    }\n",
              "\n",
              "    .dataframe tbody tr th {\n",
              "        vertical-align: top;\n",
              "    }\n",
              "\n",
              "    .dataframe thead th {\n",
              "        text-align: right;\n",
              "    }\n",
              "</style>\n",
              "<table border=\"1\" class=\"dataframe\">\n",
              "  <thead>\n",
              "    <tr style=\"text-align: right;\">\n",
              "      <th></th>\n",
              "      <th>Ответ волшебника</th>\n",
              "      <th>Реальность</th>\n",
              "    </tr>\n",
              "  </thead>\n",
              "  <tbody>\n",
              "    <tr>\n",
              "      <th>Дождь</th>\n",
              "      <td>25</td>\n",
              "      <td>36</td>\n",
              "    </tr>\n",
              "    <tr>\n",
              "      <th>Солнце</th>\n",
              "      <td>15</td>\n",
              "      <td>44</td>\n",
              "    </tr>\n",
              "  </tbody>\n",
              "</table>\n",
              "</div>"
            ],
            "text/plain": [
              "        Ответ волшебника  Реальность\n",
              "Дождь                 25          36\n",
              "Солнце                15          44"
            ]
          },
          "metadata": {
            "tags": []
          },
          "execution_count": 18
        }
      ]
    },
    {
      "cell_type": "code",
      "metadata": {
        "colab": {
          "base_uri": "https://localhost:8080/"
        },
        "id": "TxXe5MDPZ_oN",
        "outputId": "9ba3ee9c-fad9-49ce-f7d8-ac56bc4825d0"
      },
      "source": [
        "\n",
        "import scipy as sp \n",
        "\n",
        "oddsratio, pvalue = sp.stats.fisher_exact(observations)\n",
        "print('pvalue =', pvalue)"
      ],
      "execution_count": 19,
      "outputs": [
        {
          "output_type": "stream",
          "text": [
            "pvalue = 0.08323639416753109\n"
          ],
          "name": "stdout"
        }
      ]
    },
    {
      "cell_type": "markdown",
      "metadata": {
        "id": "g4rQkmBPaRHJ"
      },
      "source": [
        "В нашем случае я не могу отклонить нулевую гипотезу.\\\n",
        "Нельзя исключить, что маг действительно может предсказывать погоду"
      ]
    },
    {
      "cell_type": "markdown",
      "metadata": {
        "id": "fNaMWYL5dLL4"
      },
      "source": [
        "<div class=\"alert alert-info\">\n",
        "<b>Задание № 5</b> \n",
        "\n",
        "Используя функцию mean_confidence_interval(data, confidence), постройте доверительный интервал с уровнем доверия $\\beta = 90\\%$ для выборки:\n",
        "\n",
        "</div>"
      ]
    },
    {
      "cell_type": "code",
      "metadata": {
        "id": "ahL1dX0maSIf"
      },
      "source": [
        "data = [4,5,8,9,6,7,5,6,7,8,5,6,7,0,9,8,4,6,7,9,8,6,5,7,8,9,6,7,5,8,6,7,9,5,10]"
      ],
      "execution_count": 20,
      "outputs": []
    },
    {
      "cell_type": "code",
      "metadata": {
        "colab": {
          "base_uri": "https://localhost:8080/"
        },
        "id": "bIONXXQWaxic",
        "outputId": "464417a4-1d42-4995-995d-ae01afd1d012"
      },
      "source": [
        "def mean_confidence_interval(data, confidence=0.95):\n",
        "    n = len(data)\n",
        "    m, se = np.mean(data), sp.stats.sem(data)\n",
        "    h = se * sp.stats.t.ppf((1 + confidence)/2, n)\n",
        "    return m-h,m, m+h\n",
        "\n",
        "\n",
        "\n",
        "\n",
        "print(mean_confidence_interval(data, 0.90))"
      ],
      "execution_count": 23,
      "outputs": [
        {
          "output_type": "stream",
          "text": [
            "(6.074074746111319, 6.628571428571429, 7.183068111031539)\n"
          ],
          "name": "stdout"
        }
      ]
    },
    {
      "cell_type": "code",
      "metadata": {
        "colab": {
          "base_uri": "https://localhost:8080/"
        },
        "id": "4IxEg26Sa6SP",
        "outputId": "330d03ab-acfb-4d68-b167-c929d658e8da"
      },
      "source": [
        "# ДИ для 95%\n",
        "\n",
        "x = np.mean(data)\n",
        "se = sp.stats.sem(data)\n",
        "\n",
        "print(x-2*se, x+2*se)"
      ],
      "execution_count": 25,
      "outputs": [
        {
          "output_type": "stream",
          "text": [
            "5.972196283298139 7.284946573844719\n"
          ],
          "name": "stdout"
        }
      ]
    },
    {
      "cell_type": "markdown",
      "metadata": {
        "id": "iaHYMG0LdLL5"
      },
      "source": [
        "<div class=\"alert alert-info\">\n",
        "<b>Задание № 6</b>\n",
        "\n",
        "Принадлежат ли выборки data_1 и data_2 одному множеству? \n",
        "    \n",
        "- Оцените это с помощью известных вам тестов для проверок статистических гипотез;\n",
        "- Покажите различия визуально.\n",
        "</div>"
      ]
    },
    {
      "cell_type": "code",
      "metadata": {
        "id": "WsoLuQhCbc1a"
      },
      "source": [
        ""
      ],
      "execution_count": null,
      "outputs": []
    },
    {
      "cell_type": "code",
      "metadata": {
        "id": "W4C127x6dLL5",
        "colab": {
          "base_uri": "https://localhost:8080/"
        },
        "outputId": "0c92488f-8ccc-4897-9386-b48cf01eac1e"
      },
      "source": [
        "data_1 = [4,5,8,9,6,7,5,6,7,8,5,6,7,0,9,8,4,\n",
        "          6,7,9,8,6,5,7,8,9,6,7,5,8,6,7,9,5,10]\n",
        "\n",
        "data_2 = [8,5,6,7,0,1,8,4,6,7,0,2,6,5,7,5,3,5,3,\n",
        "          5,3,5,5,8,7,6,4,5,3,5,4,6,4,5,3,2,6,4,\n",
        "          2,6,1,0,4,3,5,4,3,4,5,4,3,4,5,4,3,4,5,\n",
        "          3,4,4,1,2,4,3,1,2,4,3,2,1,5,3,4,6,4,5,\n",
        "          3,2,4,5,6,4,3,1,3,5,3,4,4,4,2,5,3]\n",
        "\n",
        "# ДИ первой выборки с уровнем доверия 95%\n",
        "\n",
        "x = np.mean(data_1)\n",
        "se = sp.stats.sem(data_1)\n",
        "print(x-2*se, x+2*se)"
      ],
      "execution_count": 27,
      "outputs": [
        {
          "output_type": "stream",
          "text": [
            "5.972196283298139 7.284946573844719\n"
          ],
          "name": "stdout"
        }
      ]
    },
    {
      "cell_type": "code",
      "metadata": {
        "colab": {
          "base_uri": "https://localhost:8080/"
        },
        "id": "lFCws3lXcASl",
        "outputId": "ebd94a4a-9f11-49f7-ea6f-5114a9f695c1"
      },
      "source": [
        "# среднее второй выборки\n",
        "\n",
        "x = np.mean(data_2)\n",
        "print(x)"
      ],
      "execution_count": 28,
      "outputs": [
        {
          "output_type": "stream",
          "text": [
            "3.967741935483871\n"
          ],
          "name": "stdout"
        }
      ]
    },
    {
      "cell_type": "markdown",
      "metadata": {
        "id": "2wgZ4BxQcOxM"
      },
      "source": [
        "Среднее второй выборки не входит в множество первой выборки, поэтому эти выборки не принадлежат одному множеству.\\\n",
        "Тесты:"
      ]
    },
    {
      "cell_type": "code",
      "metadata": {
        "colab": {
          "base_uri": "https://localhost:8080/"
        },
        "id": "FaXdEBYLcA5K",
        "outputId": "6d4e1f09-ea0e-427e-f5ea-b757e7c8559c"
      },
      "source": [
        "\n",
        "# Тест Стьюдента, pvalue явно ниже 0,05, что позволяет отвергнуть нулевую гипотезу.\n",
        "\n",
        "t , p  = stats.ttest_ind(data_1, data_2)\n",
        "print(\"t = \" + str(t))\n",
        "print(\"p = \" + str(p))"
      ],
      "execution_count": 29,
      "outputs": [
        {
          "output_type": "stream",
          "text": [
            "t = 7.35744682757447\n",
            "p = 2.1159475572725764e-11\n"
          ],
          "name": "stdout"
        }
      ]
    },
    {
      "cell_type": "code",
      "metadata": {
        "colab": {
          "base_uri": "https://localhost:8080/"
        },
        "id": "aQAjhbXvcVdL",
        "outputId": "cac15197-6aed-439d-e0a3-9975072dc49e"
      },
      "source": [
        "\n",
        "# Тест Стьюдента, pvalue явно ниже 0,05, что позволяет отвергнуть нулевую гипотезу.\n",
        "\n",
        "t , p  = stats.ttest_ind(data_1, data_2)\n",
        "print(\"t = \" + str(t))\n",
        "print(\"p = \" + str(p))"
      ],
      "execution_count": 30,
      "outputs": [
        {
          "output_type": "stream",
          "text": [
            "t = 7.35744682757447\n",
            "p = 2.1159475572725764e-11\n"
          ],
          "name": "stdout"
        }
      ]
    },
    {
      "cell_type": "markdown",
      "metadata": {
        "id": "0SXHG3QBdLL6"
      },
      "source": [
        "<div class=\"alert alert-info\">\n",
        "<b>Задание № 7 (задание без подвоха)</b>\n",
        "\n",
        "На примере датасета про жилье в New York City, мы сталкивались с примером, когда переменная имеет не совсем нормальное распределение. \n",
        "\n",
        "- Предположим, Вы сформировали две гипотезы:\n",
        "    - нулевая гипотеза - распределение нормальное;\n",
        "    - альтернативная гипотеза - распределение ненормальное.\n",
        "- допустим, вы применили какой-то тест (сейчас неважно какой), который показал уровень значимости  `p-value = 0.03`. Каковы будут ваши выводы? Будем считать что у нас нормальное распределение или все-таки нет?)\n",
        "    \n",
        "</div>"
      ]
    },
    {
      "cell_type": "markdown",
      "metadata": {
        "id": "Hn0Raxxvckjh"
      },
      "source": [
        "Все рассмотренные нами тесты были предназначены для сравнения двух и более выборок (зависимых или независимых) и нулевая гипотеза по умолчанию - равенство средних двух выборок, принадлежность их к одному множеству. Для проверки на нормальность применяют например тест Шапиро-Уилка, где за нулевую гипотезу принимается \"Анализируемая выборка происходит из генеральной совокупности, имеющей нормальное распределение\". Если получаемая при помощи того или иного теста вероятность ошибки p оказывается меньше некоторого заранее принятого уровня значимости (например, 0.05), нулевая гипотеза отклоняется. Поэтому я вправе отклонить нулевую гипотезу, что распределение нормальное."
      ]
    },
    {
      "cell_type": "markdown",
      "metadata": {
        "id": "KwKj_6Y9dLL6"
      },
      "source": [
        "<div class=\"alert alert-info\">\n",
        "<b>Задание № 8</b>\n",
        "    \n",
        "Первая выборка — это пациенты, которых лечили препаратом `А`.  Вторая выборка — пациенты, которых лечили препаратом `B`.\n",
        "\n",
        "Значения в выборках — это некоторая характеристика эффективности лечения (уровень метаболита в крови, температура через три дня после начала лечения, срок выздоровления, число койко-дней, и т.д.) \n",
        "\n",
        "- Требуется выяснить, имеется ли значимое различие эффективности препаратов `А` и `B`, или различия являются чисто случайными и объясняются «естественной» дисперсией выбранной характеристики?  (`уровень значимости принять за 0.05 (5%)`)\n",
        "\n",
        "- При каком минимальном p-value различия были бы уже значимы? \n",
        "    \n",
        "- Если выборки незначительно отличаются, то продемонстрируйте это визуально\n",
        "</div>"
      ]
    },
    {
      "cell_type": "code",
      "metadata": {
        "id": "hWHZ56VydLL6"
      },
      "source": [
        "np.random.seed(11)\n",
        "A = stats.norm.rvs(scale=15,loc=169,size=300)\n",
        "B = stats.norm.rvs(scale=14,loc=171.4,size=300)\n"
      ],
      "execution_count": 31,
      "outputs": []
    },
    {
      "cell_type": "code",
      "metadata": {
        "colab": {
          "base_uri": "https://localhost:8080/",
          "height": 579
        },
        "id": "LeIW0YRPdRQH",
        "outputId": "d81bd896-e299-4225-8a57-579b296af662"
      },
      "source": [
        "pd.DataFrame(A).hist(bins=40)\n",
        "pd.DataFrame(B).hist(bins=40)"
      ],
      "execution_count": 32,
      "outputs": [
        {
          "output_type": "execute_result",
          "data": {
            "text/plain": [
              "array([[<matplotlib.axes._subplots.AxesSubplot object at 0x7f7f551e1d50>]],\n",
              "      dtype=object)"
            ]
          },
          "metadata": {
            "tags": []
          },
          "execution_count": 32
        },
        {
          "output_type": "display_data",
          "data": {
            "image/png": "[encoded data removed]",
            "text/plain": [
              "<Figure size 432x288 with 1 Axes>"
            ]
          },
          "metadata": {
            "tags": [],
            "needs_background": "light"
          }
        },
        {
          "output_type": "display_data",
          "data": {
            "image/png": "[encoded data removed]",
            "text/plain": [
              "<Figure size 432x288 with 1 Axes>"
            ]
          },
          "metadata": {
            "tags": [],
            "needs_background": "light"
          }
        }
      ]
    },
    {
      "cell_type": "code",
      "metadata": {
        "colab": {
          "base_uri": "https://localhost:8080/"
        },
        "id": "B9rSQa7Pd6-I",
        "outputId": "43c6a984-100d-42ab-e9e6-f1be29d941d8"
      },
      "source": [
        "stats.ttest_ind(a=A,b=B,equal_var=False)"
      ],
      "execution_count": 40,
      "outputs": [
        {
          "output_type": "execute_result",
          "data": {
            "text/plain": [
              "Ttest_indResult(statistic=-1.95300880485141, pvalue=0.051284961272800134)"
            ]
          },
          "metadata": {
            "tags": []
          },
          "execution_count": 40
        }
      ]
    }
  ]
}